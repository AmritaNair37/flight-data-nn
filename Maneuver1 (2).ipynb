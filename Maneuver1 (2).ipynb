{
  "nbformat": 4,
  "nbformat_minor": 0,
  "metadata": {
    "colab": {
      "provenance": []
    },
    "kernelspec": {
      "name": "python3",
      "display_name": "Python 3"
    },
    "language_info": {
      "name": "python"
    }
  },
  "cells": [
    {
      "cell_type": "code",
      "execution_count": null,
      "metadata": {
        "id": "d72qOLviN0Ig"
      },
      "outputs": [],
      "source": [
        "import pandas as pd\n",
        "import numpy as np\n",
        "import random\n",
        "from sklearn.model_selection import train_test_split\n",
        "import matplotlib.pyplot as plt\n",
        "from keras.layers import Flatten, Conv1D, MaxPooling1D, Activation, concatenate, BatchNormalization, Add\n",
        "from keras.layers import Dense, Input, Dropout\n",
        "from keras.models import Model\n",
        "from keras.regularizers import l2\n",
        "\n",
        "from keras.optimizers import Adam,RMSprop\n",
        "from keras.callbacks import EarlyStopping,ReduceLROnPlateau\n",
        "seed=42"
      ]
    },
    {
      "cell_type": "code",
      "source": [
        "df=pd.read_csv('features_flight_heli.csv')\n",
        "df.dropna(inplace=True)\n",
        "df.info()\n"
      ],
      "metadata": {
        "colab": {
          "base_uri": "https://localhost:8080/"
        },
        "id": "MkZDQtQ9OMcL",
        "outputId": "ca340059-4089-49d0-cfb0-af3fa18e1787"
      },
      "execution_count": null,
      "outputs": [
        {
          "output_type": "stream",
          "name": "stdout",
          "text": [
            "<class 'pandas.core.frame.DataFrame'>\n",
            "RangeIndex: 6865 entries, 0 to 6864\n",
            "Data columns (total 6 columns):\n",
            " #   Column       Non-Null Count  Dtype  \n",
            "---  ------       --------------  -----  \n",
            " 0   fname        6865 non-null   object \n",
            " 1   alt_max      6865 non-null   float64\n",
            " 2   vert_acc     6865 non-null   float64\n",
            " 3   horiz_speed  6865 non-null   float64\n",
            " 4   dist         6865 non-null   float64\n",
            " 5   is_maneuver  6865 non-null   int64  \n",
            "dtypes: float64(4), int64(1), object(1)\n",
            "memory usage: 321.9+ KB\n"
          ]
        }
      ]
    },
    {
      "cell_type": "code",
      "source": [
        "df.drop(['fname'], axis=1, inplace=True)\n",
        "df.info()"
      ],
      "metadata": {
        "colab": {
          "base_uri": "https://localhost:8080/"
        },
        "id": "YOZ_a4nqckWF",
        "outputId": "b62f6d0c-e281-4554-8ce3-483635c7e93e"
      },
      "execution_count": null,
      "outputs": [
        {
          "output_type": "stream",
          "name": "stdout",
          "text": [
            "<class 'pandas.core.frame.DataFrame'>\n",
            "RangeIndex: 6865 entries, 0 to 6864\n",
            "Data columns (total 5 columns):\n",
            " #   Column       Non-Null Count  Dtype  \n",
            "---  ------       --------------  -----  \n",
            " 0   alt_max      6865 non-null   float64\n",
            " 1   vert_acc     6865 non-null   float64\n",
            " 2   horiz_speed  6865 non-null   float64\n",
            " 3   dist         6865 non-null   float64\n",
            " 4   is_maneuver  6865 non-null   int64  \n",
            "dtypes: float64(4), int64(1)\n",
            "memory usage: 268.3 KB\n"
          ]
        }
      ]
    },
    {
      "cell_type": "code",
      "source": [
        "df['is_maneuver'].value_counts()"
      ],
      "metadata": {
        "colab": {
          "base_uri": "https://localhost:8080/"
        },
        "id": "96QON3ypcrBR",
        "outputId": "0826932b-9ad6-4509-b2b4-205f4e1ed57e"
      },
      "execution_count": null,
      "outputs": [
        {
          "output_type": "execute_result",
          "data": {
            "text/plain": [
              "1    5104\n",
              "0    1761\n",
              "Name: is_maneuver, dtype: int64"
            ]
          },
          "metadata": {},
          "execution_count": 7
        }
      ]
    },
    {
      "cell_type": "code",
      "source": [
        "Y = df['is_maneuver']\n",
        "X = df.drop(['is_maneuver'], axis=1)\n",
        "\n",
        "print(X.shape)\n",
        "print(Y.shape)"
      ],
      "metadata": {
        "colab": {
          "base_uri": "https://localhost:8080/"
        },
        "id": "x6dtshJidMOy",
        "outputId": "f15b70f3-1a60-475d-edb2-d340917f736f"
      },
      "execution_count": null,
      "outputs": [
        {
          "output_type": "stream",
          "name": "stdout",
          "text": [
            "(6865, 4)\n",
            "(6865,)\n"
          ]
        }
      ]
    },
    {
      "cell_type": "markdown",
      "source": [],
      "metadata": {
        "id": "bMWLo6wAdXel"
      }
    },
    {
      "cell_type": "code",
      "source": [
        "X_train, X_test, y_train, y_test = train_test_split(X, Y, test_size=0.2, stratify=Y, random_state=seed)"
      ],
      "metadata": {
        "id": "ZdrYrvyudQSS"
      },
      "execution_count": null,
      "outputs": []
    },
    {
      "cell_type": "code",
      "source": [
        "df.head()"
      ],
      "metadata": {
        "colab": {
          "base_uri": "https://localhost:8080/",
          "height": 206
        },
        "id": "qXzKsvXBdT3u",
        "outputId": "91fcd9d6-3f19-4bbf-a92a-fcbac6cf34ca"
      },
      "execution_count": null,
      "outputs": [
        {
          "output_type": "execute_result",
          "data": {
            "text/plain": [
              "   alt_max  vert_acc  horiz_speed       dist  is_maneuver\n",
              "0   9479.0 -0.143793   241.277903  12.318341            0\n",
              "1  10104.0  0.537735   171.344710  17.558203            1\n",
              "2   3650.0 -1.418815   123.471539   0.605749            1\n",
              "3   9479.0 -0.000318   235.397455  13.761831            1\n",
              "4  10066.0 -0.208709   135.173804  13.815511            1"
            ],
            "text/html": [
              "\n",
              "\n",
              "  <div id=\"df-9b5e887c-6b88-438f-a228-d803ce7f98aa\">\n",
              "    <div class=\"colab-df-container\">\n",
              "      <div>\n",
              "<style scoped>\n",
              "    .dataframe tbody tr th:only-of-type {\n",
              "        vertical-align: middle;\n",
              "    }\n",
              "\n",
              "    .dataframe tbody tr th {\n",
              "        vertical-align: top;\n",
              "    }\n",
              "\n",
              "    .dataframe thead th {\n",
              "        text-align: right;\n",
              "    }\n",
              "</style>\n",
              "<table border=\"1\" class=\"dataframe\">\n",
              "  <thead>\n",
              "    <tr style=\"text-align: right;\">\n",
              "      <th></th>\n",
              "      <th>alt_max</th>\n",
              "      <th>vert_acc</th>\n",
              "      <th>horiz_speed</th>\n",
              "      <th>dist</th>\n",
              "      <th>is_maneuver</th>\n",
              "    </tr>\n",
              "  </thead>\n",
              "  <tbody>\n",
              "    <tr>\n",
              "      <th>0</th>\n",
              "      <td>9479.0</td>\n",
              "      <td>-0.143793</td>\n",
              "      <td>241.277903</td>\n",
              "      <td>12.318341</td>\n",
              "      <td>0</td>\n",
              "    </tr>\n",
              "    <tr>\n",
              "      <th>1</th>\n",
              "      <td>10104.0</td>\n",
              "      <td>0.537735</td>\n",
              "      <td>171.344710</td>\n",
              "      <td>17.558203</td>\n",
              "      <td>1</td>\n",
              "    </tr>\n",
              "    <tr>\n",
              "      <th>2</th>\n",
              "      <td>3650.0</td>\n",
              "      <td>-1.418815</td>\n",
              "      <td>123.471539</td>\n",
              "      <td>0.605749</td>\n",
              "      <td>1</td>\n",
              "    </tr>\n",
              "    <tr>\n",
              "      <th>3</th>\n",
              "      <td>9479.0</td>\n",
              "      <td>-0.000318</td>\n",
              "      <td>235.397455</td>\n",
              "      <td>13.761831</td>\n",
              "      <td>1</td>\n",
              "    </tr>\n",
              "    <tr>\n",
              "      <th>4</th>\n",
              "      <td>10066.0</td>\n",
              "      <td>-0.208709</td>\n",
              "      <td>135.173804</td>\n",
              "      <td>13.815511</td>\n",
              "      <td>1</td>\n",
              "    </tr>\n",
              "  </tbody>\n",
              "</table>\n",
              "</div>\n",
              "      <button class=\"colab-df-convert\" onclick=\"convertToInteractive('df-9b5e887c-6b88-438f-a228-d803ce7f98aa')\"\n",
              "              title=\"Convert this dataframe to an interactive table.\"\n",
              "              style=\"display:none;\">\n",
              "\n",
              "  <svg xmlns=\"http://www.w3.org/2000/svg\" height=\"24px\"viewBox=\"0 0 24 24\"\n",
              "       width=\"24px\">\n",
              "    <path d=\"M0 0h24v24H0V0z\" fill=\"none\"/>\n",
              "    <path d=\"M18.56 5.44l.94 2.06.94-2.06 2.06-.94-2.06-.94-.94-2.06-.94 2.06-2.06.94zm-11 1L8.5 8.5l.94-2.06 2.06-.94-2.06-.94L8.5 2.5l-.94 2.06-2.06.94zm10 10l.94 2.06.94-2.06 2.06-.94-2.06-.94-.94-2.06-.94 2.06-2.06.94z\"/><path d=\"M17.41 7.96l-1.37-1.37c-.4-.4-.92-.59-1.43-.59-.52 0-1.04.2-1.43.59L10.3 9.45l-7.72 7.72c-.78.78-.78 2.05 0 2.83L4 21.41c.39.39.9.59 1.41.59.51 0 1.02-.2 1.41-.59l7.78-7.78 2.81-2.81c.8-.78.8-2.07 0-2.86zM5.41 20L4 18.59l7.72-7.72 1.47 1.35L5.41 20z\"/>\n",
              "  </svg>\n",
              "      </button>\n",
              "\n",
              "\n",
              "\n",
              "    <div id=\"df-e52f26df-66cc-4c53-81e4-c9c78b683427\">\n",
              "      <button class=\"colab-df-quickchart\" onclick=\"quickchart('df-e52f26df-66cc-4c53-81e4-c9c78b683427')\"\n",
              "              title=\"Suggest charts.\"\n",
              "              style=\"display:none;\">\n",
              "\n",
              "<svg xmlns=\"http://www.w3.org/2000/svg\" height=\"24px\"viewBox=\"0 0 24 24\"\n",
              "     width=\"24px\">\n",
              "    <g>\n",
              "        <path d=\"M19 3H5c-1.1 0-2 .9-2 2v14c0 1.1.9 2 2 2h14c1.1 0 2-.9 2-2V5c0-1.1-.9-2-2-2zM9 17H7v-7h2v7zm4 0h-2V7h2v10zm4 0h-2v-4h2v4z\"/>\n",
              "    </g>\n",
              "</svg>\n",
              "      </button>\n",
              "    </div>\n",
              "\n",
              "<style>\n",
              "  .colab-df-quickchart {\n",
              "    background-color: #E8F0FE;\n",
              "    border: none;\n",
              "    border-radius: 50%;\n",
              "    cursor: pointer;\n",
              "    display: none;\n",
              "    fill: #1967D2;\n",
              "    height: 32px;\n",
              "    padding: 0 0 0 0;\n",
              "    width: 32px;\n",
              "  }\n",
              "\n",
              "  .colab-df-quickchart:hover {\n",
              "    background-color: #E2EBFA;\n",
              "    box-shadow: 0px 1px 2px rgba(60, 64, 67, 0.3), 0px 1px 3px 1px rgba(60, 64, 67, 0.15);\n",
              "    fill: #174EA6;\n",
              "  }\n",
              "\n",
              "  [theme=dark] .colab-df-quickchart {\n",
              "    background-color: #3B4455;\n",
              "    fill: #D2E3FC;\n",
              "  }\n",
              "\n",
              "  [theme=dark] .colab-df-quickchart:hover {\n",
              "    background-color: #434B5C;\n",
              "    box-shadow: 0px 1px 3px 1px rgba(0, 0, 0, 0.15);\n",
              "    filter: drop-shadow(0px 1px 2px rgba(0, 0, 0, 0.3));\n",
              "    fill: #FFFFFF;\n",
              "  }\n",
              "</style>\n",
              "\n",
              "    <script>\n",
              "      async function quickchart(key) {\n",
              "        const containerElement = document.querySelector('#' + key);\n",
              "        const charts = await google.colab.kernel.invokeFunction(\n",
              "            'suggestCharts', [key], {});\n",
              "      }\n",
              "    </script>\n",
              "\n",
              "      <script>\n",
              "\n",
              "function displayQuickchartButton(domScope) {\n",
              "  let quickchartButtonEl =\n",
              "    domScope.querySelector('#df-e52f26df-66cc-4c53-81e4-c9c78b683427 button.colab-df-quickchart');\n",
              "  quickchartButtonEl.style.display =\n",
              "    google.colab.kernel.accessAllowed ? 'block' : 'none';\n",
              "}\n",
              "\n",
              "        displayQuickchartButton(document);\n",
              "      </script>\n",
              "      <style>\n",
              "    .colab-df-container {\n",
              "      display:flex;\n",
              "      flex-wrap:wrap;\n",
              "      gap: 12px;\n",
              "    }\n",
              "\n",
              "    .colab-df-convert {\n",
              "      background-color: #E8F0FE;\n",
              "      border: none;\n",
              "      border-radius: 50%;\n",
              "      cursor: pointer;\n",
              "      display: none;\n",
              "      fill: #1967D2;\n",
              "      height: 32px;\n",
              "      padding: 0 0 0 0;\n",
              "      width: 32px;\n",
              "    }\n",
              "\n",
              "    .colab-df-convert:hover {\n",
              "      background-color: #E2EBFA;\n",
              "      box-shadow: 0px 1px 2px rgba(60, 64, 67, 0.3), 0px 1px 3px 1px rgba(60, 64, 67, 0.15);\n",
              "      fill: #174EA6;\n",
              "    }\n",
              "\n",
              "    [theme=dark] .colab-df-convert {\n",
              "      background-color: #3B4455;\n",
              "      fill: #D2E3FC;\n",
              "    }\n",
              "\n",
              "    [theme=dark] .colab-df-convert:hover {\n",
              "      background-color: #434B5C;\n",
              "      box-shadow: 0px 1px 3px 1px rgba(0, 0, 0, 0.15);\n",
              "      filter: drop-shadow(0px 1px 2px rgba(0, 0, 0, 0.3));\n",
              "      fill: #FFFFFF;\n",
              "    }\n",
              "  </style>\n",
              "\n",
              "      <script>\n",
              "        const buttonEl =\n",
              "          document.querySelector('#df-9b5e887c-6b88-438f-a228-d803ce7f98aa button.colab-df-convert');\n",
              "        buttonEl.style.display =\n",
              "          google.colab.kernel.accessAllowed ? 'block' : 'none';\n",
              "\n",
              "        async function convertToInteractive(key) {\n",
              "          const element = document.querySelector('#df-9b5e887c-6b88-438f-a228-d803ce7f98aa');\n",
              "          const dataTable =\n",
              "            await google.colab.kernel.invokeFunction('convertToInteractive',\n",
              "                                                     [key], {});\n",
              "          if (!dataTable) return;\n",
              "\n",
              "          const docLinkHtml = 'Like what you see? Visit the ' +\n",
              "            '<a target=\"_blank\" href=https://colab.research.google.com/notebooks/data_table.ipynb>data table notebook</a>'\n",
              "            + ' to learn more about interactive tables.';\n",
              "          element.innerHTML = '';\n",
              "          dataTable['output_type'] = 'display_data';\n",
              "          await google.colab.output.renderOutput(dataTable, element);\n",
              "          const docLink = document.createElement('div');\n",
              "          docLink.innerHTML = docLinkHtml;\n",
              "          element.appendChild(docLink);\n",
              "        }\n",
              "      </script>\n",
              "    </div>\n",
              "  </div>\n"
            ]
          },
          "metadata": {},
          "execution_count": 12
        }
      ]
    },
    {
      "cell_type": "code",
      "source": [
        "X_train = np.array(X_train)\n",
        "X_test=np.array(X_test)"
      ],
      "metadata": {
        "id": "qVp62r6jdnt7"
      },
      "execution_count": null,
      "outputs": []
    },
    {
      "cell_type": "code",
      "source": [
        "\n",
        "\n",
        "\n",
        "mean = X_train.mean(axis=0)\n",
        "std = X_train.std(axis=0)\n",
        "X_train = (X_train - mean) / std\n",
        "\n",
        "inputs = Input(shape=(X_train.shape[1],))\n",
        "\n",
        "# Initial dense layers\n",
        "x = Dense(256)(inputs)\n",
        "x = Activation('relu')(x)\n",
        "x = BatchNormalization()(x)\n",
        "x = Dropout(0.5)(x)\n",
        "\n",
        "x = Dense(128)(x)\n",
        "x = Activation('relu')(x)\n",
        "x = BatchNormalization()(x)\n",
        "x = Dropout(0.5)(x)\n",
        "\n",
        "# Residual connection starts here\n",
        "residual = x\n",
        "\n",
        "x = Dense(64)(x)\n",
        "x = Activation('relu')(x)\n",
        "x = BatchNormalization()(x)\n",
        "x = Dropout(0.5)(x)\n",
        "\n",
        "x = Dense(32)(x)\n",
        "x = Activation('relu')(x)\n",
        "x = BatchNormalization()(x)\n",
        "x = Dropout(0.5)(x)\n",
        "\n",
        "x = Dense(16)(x)\n",
        "x = Activation('relu')(x)\n",
        "x = BatchNormalization()(x)\n",
        "x = Dropout(0.5)(x)\n",
        "\n",
        "# Residual connection\n",
        "residual = Dense(16)(residual)\n",
        "x = Add()([x, residual])\n",
        "x = Activation('relu')(x)\n",
        "\n",
        "# Output layer\n",
        "outputs = Dense(1, activation='sigmoid')(x)\n",
        "\n",
        "# Create the model\n",
        "model2 = Model(inputs=inputs, outputs=outputs)\n",
        "\n",
        "# Compile the model\n",
        "optimizer = Adam(learning_rate=0.0001)\n",
        "model2.compile(optimizer=optimizer, loss='binary_crossentropy', metrics=['accuracy'])\n",
        "\n",
        "# Define early stopping callback\n",
        "early_stopping = EarlyStopping(monitor='val_loss', patience=5, restore_best_weights=True)\n",
        "\n",
        "# Train the model\n",
        "history2 = model2.fit(X_train, y_train, epochs=20, batch_size=64, validation_split=0.2, callbacks=[early_stopping])\n"
      ],
      "metadata": {
        "colab": {
          "base_uri": "https://localhost:8080/"
        },
        "id": "evTXWAz3tqEh",
        "outputId": "fb2cbe6d-0c74-4c40-b679-4d3ac0905dab"
      },
      "execution_count": null,
      "outputs": [
        {
          "output_type": "stream",
          "name": "stdout",
          "text": [
            "Epoch 1/20\n",
            "69/69 [==============================] - 4s 20ms/step - loss: 0.9873 - accuracy: 0.5188 - val_loss: 0.7256 - val_accuracy: 0.2994\n",
            "Epoch 2/20\n",
            "69/69 [==============================] - 1s 13ms/step - loss: 0.8081 - accuracy: 0.6239 - val_loss: 0.7214 - val_accuracy: 0.3458\n",
            "Epoch 3/20\n",
            "69/69 [==============================] - 0s 7ms/step - loss: 0.7310 - accuracy: 0.6754 - val_loss: 0.6652 - val_accuracy: 0.5396\n",
            "Epoch 4/20\n",
            "69/69 [==============================] - 0s 7ms/step - loss: 0.6538 - accuracy: 0.7282 - val_loss: 0.5882 - val_accuracy: 0.7361\n",
            "Epoch 5/20\n",
            "69/69 [==============================] - 0s 7ms/step - loss: 0.6210 - accuracy: 0.7382 - val_loss: 0.5088 - val_accuracy: 0.8016\n",
            "Epoch 6/20\n",
            "69/69 [==============================] - 0s 7ms/step - loss: 0.5737 - accuracy: 0.7639 - val_loss: 0.4552 - val_accuracy: 0.8326\n",
            "Epoch 7/20\n",
            "69/69 [==============================] - 0s 6ms/step - loss: 0.5365 - accuracy: 0.7819 - val_loss: 0.4240 - val_accuracy: 0.8471\n",
            "Epoch 8/20\n",
            "69/69 [==============================] - 0s 6ms/step - loss: 0.5328 - accuracy: 0.7831 - val_loss: 0.4119 - val_accuracy: 0.8553\n",
            "Epoch 9/20\n",
            "69/69 [==============================] - 0s 7ms/step - loss: 0.5042 - accuracy: 0.7942 - val_loss: 0.4081 - val_accuracy: 0.8535\n",
            "Epoch 10/20\n",
            "69/69 [==============================] - 0s 7ms/step - loss: 0.4894 - accuracy: 0.8074 - val_loss: 0.4078 - val_accuracy: 0.8535\n",
            "Epoch 11/20\n",
            "69/69 [==============================] - 0s 6ms/step - loss: 0.4727 - accuracy: 0.8129 - val_loss: 0.4105 - val_accuracy: 0.8480\n",
            "Epoch 12/20\n",
            "69/69 [==============================] - 1s 9ms/step - loss: 0.4831 - accuracy: 0.8133 - val_loss: 0.4109 - val_accuracy: 0.8508\n",
            "Epoch 13/20\n",
            "69/69 [==============================] - 1s 9ms/step - loss: 0.4731 - accuracy: 0.8154 - val_loss: 0.4117 - val_accuracy: 0.8462\n",
            "Epoch 14/20\n",
            "69/69 [==============================] - 1s 10ms/step - loss: 0.4596 - accuracy: 0.8190 - val_loss: 0.4159 - val_accuracy: 0.8426\n",
            "Epoch 15/20\n",
            "69/69 [==============================] - 1s 10ms/step - loss: 0.4463 - accuracy: 0.8290 - val_loss: 0.4155 - val_accuracy: 0.8408\n"
          ]
        }
      ]
    },
    {
      "cell_type": "code",
      "source": [
        "acc = history2.history['accuracy']\n",
        "val_acc = history2.history['val_accuracy']\n",
        "epochs = range(1, len(acc) + 1)\n",
        "\n",
        "\n",
        "plt.plot(epochs, acc, 'bo', label='Training accuracy')\n",
        "plt.plot(epochs, val_acc, 'orange', label='Validation accuracy')\n",
        "plt.title('Training and validation accuracy')\n",
        "plt.xlabel('Epochs')\n",
        "plt.ylabel('Accuracy')\n",
        "plt.legend()\n",
        "plt.show()\n",
        "\n",
        "\n",
        "np.max(val_acc)"
      ],
      "metadata": {
        "colab": {
          "base_uri": "https://localhost:8080/",
          "height": 489
        },
        "id": "0RS4mDTX02N4",
        "outputId": "f62b8f62-ddaf-4f0b-f895-863bcc83fa56"
      },
      "execution_count": null,
      "outputs": [
        {
          "output_type": "display_data",
          "data": {
            "text/plain": [
              "<Figure size 640x480 with 1 Axes>"
            ],
            "image/png": "[encoded data removed]"
          },
          "metadata": {}
        },
        {
          "output_type": "execute_result",
          "data": {
            "text/plain": [
              "0.8553230166435242"
            ]
          },
          "metadata": {},
          "execution_count": 98
        }
      ]
    },
    {
      "cell_type": "code",
      "source": [
        "mean = X_train.mean(axis=0)\n",
        "std = X_train.std(axis=0)\n",
        "X_train = (X_train - mean) / std\n",
        "\n",
        "inputs = Input(shape=(X_train.shape[1],))\n",
        "\n",
        "# Initial dense layers\n",
        "x = Dense(512)(inputs)\n",
        "x = Activation('relu')(x)\n",
        "x = BatchNormalization()(x)\n",
        "x = Dropout(0.5)(x)\n",
        "\n",
        "x = Dense(256)(x)\n",
        "x = Activation('relu')(x)\n",
        "x = BatchNormalization()(x)\n",
        "x = Dropout(0.5)(x)\n",
        "\n",
        "# Residual connection starts here\n",
        "residual = x\n",
        "\n",
        "x = Dense(128)(x)\n",
        "x = Activation('relu')(x)\n",
        "x = BatchNormalization()(x)\n",
        "x = Dropout(0.5)(x)\n",
        "\n",
        "x = Dense(64)(x)\n",
        "x = Activation('relu')(x)\n",
        "x = BatchNormalization()(x)\n",
        "x = Dropout(0.5)(x)\n",
        "\n",
        "x = Dense(32)(x)\n",
        "x = Activation('relu')(x)\n",
        "x = BatchNormalization()(x)\n",
        "x = Dropout(0.5)(x)\n",
        "\n",
        "x = Dense(16)(x)\n",
        "x = Activation('relu')(x)\n",
        "x = BatchNormalization()(x)\n",
        "x = Dropout(0.5)(x)\n",
        "\n",
        "# Residual connection\n",
        "residual = Dense(16)(residual)\n",
        "x = Add()([x, residual])\n",
        "x = Activation('relu')(x)\n",
        "\n",
        "# Output layer\n",
        "outputs = Dense(1, activation='sigmoid')(x)\n",
        "\n",
        "# Create the model\n",
        "model3 = Model(inputs=inputs, outputs=outputs)\n",
        "\n",
        "# Compile the model with adjusted learning rate\n",
        "optimizer = Adam(learning_rate=0.001)  # Experiment with different values\n",
        "model3.compile(optimizer=optimizer, loss='binary_crossentropy', metrics=['accuracy'])\n",
        "\n",
        "# Define early stopping callback\n",
        "early_stopping = EarlyStopping(monitor='val_loss', patience=10, restore_best_weights=True)\n",
        "lr_scheduler = ReduceLROnPlateau(monitor='val_loss', factor=0.2, patience=5, min_lr=1e-6)\n",
        "\n",
        "# Train the model\n",
        "history3 = model3.fit(X_train, y_train, epochs=50, batch_size=64, validation_split=0.2, callbacks=[early_stopping,lr_scheduler])"
      ],
      "metadata": {
        "colab": {
          "base_uri": "https://localhost:8080/"
        },
        "id": "u0UbIeH51CMB",
        "outputId": "61e6d349-0f6d-4f5c-a884-22f8bb2db625"
      },
      "execution_count": null,
      "outputs": [
        {
          "output_type": "stream",
          "name": "stdout",
          "text": [
            "Epoch 1/50\n",
            "69/69 [==============================] - 4s 15ms/step - loss: 0.5018 - accuracy: 0.8131 - val_loss: 0.5144 - val_accuracy: 0.7962 - lr: 0.0010\n",
            "Epoch 2/50\n",
            "69/69 [==============================] - 1s 15ms/step - loss: 0.4248 - accuracy: 0.8422 - val_loss: 0.4722 - val_accuracy: 0.8044 - lr: 0.0010\n",
            "Epoch 3/50\n",
            "69/69 [==============================] - 1s 17ms/step - loss: 0.4165 - accuracy: 0.8457 - val_loss: 0.4593 - val_accuracy: 0.8153 - lr: 0.0010\n",
            "Epoch 4/50\n",
            "69/69 [==============================] - 1s 15ms/step - loss: 0.3966 - accuracy: 0.8504 - val_loss: 0.4373 - val_accuracy: 0.8344 - lr: 0.0010\n",
            "Epoch 5/50\n",
            "69/69 [==============================] - 1s 10ms/step - loss: 0.3820 - accuracy: 0.8568 - val_loss: 0.4185 - val_accuracy: 0.8562 - lr: 0.0010\n",
            "Epoch 6/50\n",
            "69/69 [==============================] - 1s 11ms/step - loss: 0.3836 - accuracy: 0.8573 - val_loss: 0.4042 - val_accuracy: 0.8562 - lr: 0.0010\n",
            "Epoch 7/50\n",
            "69/69 [==============================] - 1s 11ms/step - loss: 0.3686 - accuracy: 0.8611 - val_loss: 0.3853 - val_accuracy: 0.8590 - lr: 0.0010\n",
            "Epoch 8/50\n",
            "69/69 [==============================] - 1s 11ms/step - loss: 0.3651 - accuracy: 0.8582 - val_loss: 0.3814 - val_accuracy: 0.8626 - lr: 0.0010\n",
            "Epoch 9/50\n",
            "69/69 [==============================] - 1s 11ms/step - loss: 0.3534 - accuracy: 0.8634 - val_loss: 0.3655 - val_accuracy: 0.8608 - lr: 0.0010\n",
            "Epoch 10/50\n",
            "69/69 [==============================] - 1s 11ms/step - loss: 0.3663 - accuracy: 0.8609 - val_loss: 0.3663 - val_accuracy: 0.8617 - lr: 0.0010\n",
            "Epoch 11/50\n",
            "69/69 [==============================] - 1s 11ms/step - loss: 0.3544 - accuracy: 0.8621 - val_loss: 0.3629 - val_accuracy: 0.8608 - lr: 0.0010\n",
            "Epoch 12/50\n",
            "69/69 [==============================] - 1s 11ms/step - loss: 0.3560 - accuracy: 0.8650 - val_loss: 0.3603 - val_accuracy: 0.8617 - lr: 0.0010\n",
            "Epoch 13/50\n",
            "69/69 [==============================] - 1s 11ms/step - loss: 0.3467 - accuracy: 0.8582 - val_loss: 0.3594 - val_accuracy: 0.8617 - lr: 0.0010\n",
            "Epoch 14/50\n",
            "69/69 [==============================] - 1s 10ms/step - loss: 0.3494 - accuracy: 0.8636 - val_loss: 0.3645 - val_accuracy: 0.8599 - lr: 0.0010\n",
            "Epoch 15/50\n",
            "69/69 [==============================] - 1s 11ms/step - loss: 0.3450 - accuracy: 0.8614 - val_loss: 0.3589 - val_accuracy: 0.8599 - lr: 0.0010\n",
            "Epoch 16/50\n",
            "69/69 [==============================] - 1s 11ms/step - loss: 0.3494 - accuracy: 0.8630 - val_loss: 0.3559 - val_accuracy: 0.8590 - lr: 0.0010\n",
            "Epoch 17/50\n",
            "69/69 [==============================] - 1s 11ms/step - loss: 0.3424 - accuracy: 0.8659 - val_loss: 0.3583 - val_accuracy: 0.8553 - lr: 0.0010\n",
            "Epoch 18/50\n",
            "69/69 [==============================] - 1s 17ms/step - loss: 0.3401 - accuracy: 0.8671 - val_loss: 0.3557 - val_accuracy: 0.8608 - lr: 0.0010\n",
            "Epoch 19/50\n",
            "69/69 [==============================] - 1s 16ms/step - loss: 0.3429 - accuracy: 0.8648 - val_loss: 0.3550 - val_accuracy: 0.8581 - lr: 0.0010\n",
            "Epoch 20/50\n",
            "69/69 [==============================] - 1s 13ms/step - loss: 0.3349 - accuracy: 0.8673 - val_loss: 0.3543 - val_accuracy: 0.8599 - lr: 0.0010\n",
            "Epoch 21/50\n",
            "69/69 [==============================] - 1s 10ms/step - loss: 0.3423 - accuracy: 0.8666 - val_loss: 0.3524 - val_accuracy: 0.8562 - lr: 0.0010\n",
            "Epoch 22/50\n",
            "69/69 [==============================] - 1s 11ms/step - loss: 0.3440 - accuracy: 0.8625 - val_loss: 0.3527 - val_accuracy: 0.8599 - lr: 0.0010\n",
            "Epoch 23/50\n",
            "69/69 [==============================] - 1s 11ms/step - loss: 0.3319 - accuracy: 0.8648 - val_loss: 0.3519 - val_accuracy: 0.8635 - lr: 0.0010\n",
            "Epoch 24/50\n",
            "69/69 [==============================] - 1s 11ms/step - loss: 0.3322 - accuracy: 0.8696 - val_loss: 0.3483 - val_accuracy: 0.8626 - lr: 0.0010\n",
            "Epoch 25/50\n",
            "69/69 [==============================] - 1s 11ms/step - loss: 0.3342 - accuracy: 0.8689 - val_loss: 0.3494 - val_accuracy: 0.8599 - lr: 0.0010\n",
            "Epoch 26/50\n",
            "69/69 [==============================] - 1s 11ms/step - loss: 0.3359 - accuracy: 0.8657 - val_loss: 0.3489 - val_accuracy: 0.8608 - lr: 0.0010\n",
            "Epoch 27/50\n",
            "69/69 [==============================] - 1s 11ms/step - loss: 0.3292 - accuracy: 0.8691 - val_loss: 0.3516 - val_accuracy: 0.8626 - lr: 0.0010\n",
            "Epoch 28/50\n",
            "69/69 [==============================] - 1s 11ms/step - loss: 0.3391 - accuracy: 0.8636 - val_loss: 0.3492 - val_accuracy: 0.8581 - lr: 0.0010\n",
            "Epoch 29/50\n",
            "69/69 [==============================] - 1s 11ms/step - loss: 0.3317 - accuracy: 0.8668 - val_loss: 0.3486 - val_accuracy: 0.8553 - lr: 0.0010\n",
            "Epoch 30/50\n",
            "69/69 [==============================] - 1s 11ms/step - loss: 0.3262 - accuracy: 0.8700 - val_loss: 0.3470 - val_accuracy: 0.8562 - lr: 2.0000e-04\n",
            "Epoch 31/50\n",
            "69/69 [==============================] - 1s 11ms/step - loss: 0.3292 - accuracy: 0.8655 - val_loss: 0.3468 - val_accuracy: 0.8608 - lr: 2.0000e-04\n",
            "Epoch 32/50\n",
            "69/69 [==============================] - 1s 10ms/step - loss: 0.3292 - accuracy: 0.8698 - val_loss: 0.3460 - val_accuracy: 0.8599 - lr: 2.0000e-04\n",
            "Epoch 33/50\n",
            "69/69 [==============================] - 1s 13ms/step - loss: 0.3259 - accuracy: 0.8707 - val_loss: 0.3451 - val_accuracy: 0.8581 - lr: 2.0000e-04\n",
            "Epoch 34/50\n",
            "69/69 [==============================] - 1s 17ms/step - loss: 0.3289 - accuracy: 0.8675 - val_loss: 0.3454 - val_accuracy: 0.8608 - lr: 2.0000e-04\n",
            "Epoch 35/50\n",
            "69/69 [==============================] - 1s 17ms/step - loss: 0.3271 - accuracy: 0.8668 - val_loss: 0.3455 - val_accuracy: 0.8617 - lr: 2.0000e-04\n",
            "Epoch 36/50\n",
            "69/69 [==============================] - 1s 10ms/step - loss: 0.3258 - accuracy: 0.8691 - val_loss: 0.3452 - val_accuracy: 0.8626 - lr: 2.0000e-04\n",
            "Epoch 37/50\n",
            "69/69 [==============================] - 1s 11ms/step - loss: 0.3243 - accuracy: 0.8693 - val_loss: 0.3451 - val_accuracy: 0.8608 - lr: 2.0000e-04\n",
            "Epoch 38/50\n",
            "69/69 [==============================] - 1s 11ms/step - loss: 0.3217 - accuracy: 0.8712 - val_loss: 0.3450 - val_accuracy: 0.8590 - lr: 2.0000e-04\n",
            "Epoch 39/50\n",
            "69/69 [==============================] - 1s 10ms/step - loss: 0.3233 - accuracy: 0.8696 - val_loss: 0.3451 - val_accuracy: 0.8608 - lr: 4.0000e-05\n",
            "Epoch 40/50\n",
            "69/69 [==============================] - 1s 11ms/step - loss: 0.3256 - accuracy: 0.8700 - val_loss: 0.3450 - val_accuracy: 0.8599 - lr: 4.0000e-05\n",
            "Epoch 41/50\n",
            "69/69 [==============================] - 1s 11ms/step - loss: 0.3243 - accuracy: 0.8702 - val_loss: 0.3447 - val_accuracy: 0.8590 - lr: 4.0000e-05\n",
            "Epoch 42/50\n",
            "69/69 [==============================] - 1s 11ms/step - loss: 0.3233 - accuracy: 0.8718 - val_loss: 0.3448 - val_accuracy: 0.8581 - lr: 4.0000e-05\n",
            "Epoch 43/50\n",
            "69/69 [==============================] - 1s 11ms/step - loss: 0.3262 - accuracy: 0.8689 - val_loss: 0.3448 - val_accuracy: 0.8590 - lr: 4.0000e-05\n",
            "Epoch 44/50\n",
            "69/69 [==============================] - 1s 11ms/step - loss: 0.3236 - accuracy: 0.8696 - val_loss: 0.3448 - val_accuracy: 0.8599 - lr: 4.0000e-05\n",
            "Epoch 45/50\n",
            "69/69 [==============================] - 1s 11ms/step - loss: 0.3241 - accuracy: 0.8700 - val_loss: 0.3447 - val_accuracy: 0.8599 - lr: 4.0000e-05\n",
            "Epoch 46/50\n",
            "69/69 [==============================] - 1s 11ms/step - loss: 0.3238 - accuracy: 0.8721 - val_loss: 0.3448 - val_accuracy: 0.8617 - lr: 4.0000e-05\n",
            "Epoch 47/50\n",
            "69/69 [==============================] - 1s 10ms/step - loss: 0.3237 - accuracy: 0.8714 - val_loss: 0.3449 - val_accuracy: 0.8608 - lr: 8.0000e-06\n",
            "Epoch 48/50\n",
            "69/69 [==============================] - 1s 11ms/step - loss: 0.3238 - accuracy: 0.8668 - val_loss: 0.3447 - val_accuracy: 0.8599 - lr: 8.0000e-06\n",
            "Epoch 49/50\n",
            "69/69 [==============================] - 1s 14ms/step - loss: 0.3191 - accuracy: 0.8728 - val_loss: 0.3447 - val_accuracy: 0.8608 - lr: 8.0000e-06\n",
            "Epoch 50/50\n",
            "69/69 [==============================] - 1s 18ms/step - loss: 0.3180 - accuracy: 0.8700 - val_loss: 0.3448 - val_accuracy: 0.8608 - lr: 8.0000e-06\n"
          ]
        }
      ]
    },
    {
      "cell_type": "code",
      "source": [
        "acc = history3.history['accuracy']\n",
        "val_acc = history3.history['val_accuracy']\n",
        "epochs = range(1, len(acc) + 1)\n",
        "\n",
        "\n",
        "plt.plot(epochs, acc, 'bo', label='Training accuracy')\n",
        "plt.plot(epochs, val_acc, 'orange', label='Validation accuracy')\n",
        "plt.title('Training and validation accuracy')\n",
        "plt.xlabel('Epochs')\n",
        "plt.ylabel('Accuracy')\n",
        "plt.legend()\n",
        "plt.show()\n",
        "\n",
        "\n",
        "np.max(val_acc)"
      ],
      "metadata": {
        "colab": {
          "base_uri": "https://localhost:8080/",
          "height": 489
        },
        "id": "PZxzZtC_D-p3",
        "outputId": "66ee8b4a-9560-48e6-e76f-5669542510d7"
      },
      "execution_count": null,
      "outputs": [
        {
          "output_type": "display_data",
          "data": {
            "text/plain": [
              "<Figure size 640x480 with 1 Axes>"
            ],
            "image/png": "[encoded data removed]"
          },
          "metadata": {}
        },
        {
          "output_type": "execute_result",
          "data": {
            "text/plain": [
              "0.8635122776031494"
            ]
          },
          "metadata": {},
          "execution_count": 105
        }
      ]
    },
    {
      "cell_type": "code",
      "source": [
        "mean = X_train.mean(axis=0)\n",
        "std = X_train.std(axis=0)\n",
        "X_train = (X_train - mean) / std\n",
        "\n",
        "inputs = Input(shape=(X_train.shape[1],))\n",
        "\n",
        "# Initial dense layers\n",
        "x = Dense(512)(inputs)\n",
        "x = Activation('relu')(x)\n",
        "x = BatchNormalization()(x)\n",
        "x = Dropout(0.5)(x)\n",
        "\n",
        "x = Dense(256)(x)\n",
        "x = Activation('relu')(x)\n",
        "x = BatchNormalization()(x)\n",
        "x = Dropout(0.5)(x)\n",
        "\n",
        "# Residual connection starts here\n",
        "residual = x\n",
        "\n",
        "x = Dense(128)(x)\n",
        "x = Activation('relu')(x)\n",
        "x = BatchNormalization()(x)\n",
        "x = Dropout(0.5)(x)\n",
        "\n",
        "x = Dense(64)(x)\n",
        "x = Activation('relu')(x)\n",
        "x = BatchNormalization()(x)\n",
        "x = Dropout(0.5)(x)\n",
        "\n",
        "x = Dense(32)(x)\n",
        "x = Activation('relu')(x)\n",
        "x = BatchNormalization()(x)\n",
        "x = Dropout(0.5)(x)\n",
        "\n",
        "x = Dense(16)(x)\n",
        "x = Activation('relu')(x)\n",
        "x = BatchNormalization()(x)\n",
        "x = Dropout(0.5)(x)\n",
        "\n",
        "# Residual connection\n",
        "residual = Dense(16)(residual)\n",
        "x = Add()([x, residual])\n",
        "x = Activation('relu')(x)\n",
        "\n",
        "# Output layer\n",
        "outputs = Dense(1, activation='sigmoid')(x)\n",
        "\n",
        "# Create the model\n",
        "model4 = Model(inputs=inputs, outputs=outputs)\n",
        "\n",
        "# Compile the model with adjusted learning rate\n",
        "optimizer = RMSprop(learning_rate=0.001)\n",
        "#optimizer = Adam(learning_rate=0.001)  # Experiment with different values\n",
        "model4.compile(optimizer=optimizer, loss='binary_crossentropy', metrics=['accuracy'])\n",
        "\n",
        "# Define early stopping callback\n",
        "early_stopping = EarlyStopping(monitor='val_loss', patience=10, restore_best_weights=True)\n",
        "\n",
        "\n",
        "# Train the model\n",
        "history4 = model4.fit(X_train, y_train, epochs=30, batch_size=64, validation_split=0.2, callbacks=[early_stopping])"
      ],
      "metadata": {
        "colab": {
          "base_uri": "https://localhost:8080/"
        },
        "id": "FKjYBzHaEH72",
        "outputId": "fd40e7aa-db9e-4e9a-a65f-8b49750478cb"
      },
      "execution_count": null,
      "outputs": [
        {
          "output_type": "stream",
          "name": "stdout",
          "text": [
            "Epoch 1/30\n",
            "69/69 [==============================] - 4s 15ms/step - loss: 0.5508 - accuracy: 0.7867 - val_loss: 0.5097 - val_accuracy: 0.7316\n",
            "Epoch 2/30\n",
            "69/69 [==============================] - 1s 13ms/step - loss: 0.4270 - accuracy: 0.8402 - val_loss: 0.4899 - val_accuracy: 0.7316\n",
            "Epoch 3/30\n",
            "69/69 [==============================] - 1s 16ms/step - loss: 0.4148 - accuracy: 0.8486 - val_loss: 0.4592 - val_accuracy: 0.7316\n",
            "Epoch 4/30\n",
            "69/69 [==============================] - 1s 17ms/step - loss: 0.3975 - accuracy: 0.8545 - val_loss: 0.4493 - val_accuracy: 0.7434\n",
            "Epoch 5/30\n",
            "69/69 [==============================] - 1s 11ms/step - loss: 0.3868 - accuracy: 0.8548 - val_loss: 0.4163 - val_accuracy: 0.8317\n",
            "Epoch 6/30\n",
            "69/69 [==============================] - 1s 10ms/step - loss: 0.3919 - accuracy: 0.8566 - val_loss: 0.3993 - val_accuracy: 0.8526\n",
            "Epoch 7/30\n",
            "69/69 [==============================] - 1s 11ms/step - loss: 0.3706 - accuracy: 0.8611 - val_loss: 0.3990 - val_accuracy: 0.8508\n",
            "Epoch 8/30\n",
            "69/69 [==============================] - 1s 10ms/step - loss: 0.3571 - accuracy: 0.8655 - val_loss: 0.3823 - val_accuracy: 0.8571\n",
            "Epoch 9/30\n",
            "69/69 [==============================] - 1s 11ms/step - loss: 0.3610 - accuracy: 0.8659 - val_loss: 0.3752 - val_accuracy: 0.8599\n",
            "Epoch 10/30\n",
            "69/69 [==============================] - 1s 10ms/step - loss: 0.3549 - accuracy: 0.8677 - val_loss: 0.3676 - val_accuracy: 0.8635\n",
            "Epoch 11/30\n",
            "69/69 [==============================] - 1s 10ms/step - loss: 0.3562 - accuracy: 0.8618 - val_loss: 0.3684 - val_accuracy: 0.8635\n",
            "Epoch 12/30\n",
            "69/69 [==============================] - 1s 11ms/step - loss: 0.3500 - accuracy: 0.8673 - val_loss: 0.3649 - val_accuracy: 0.8608\n",
            "Epoch 13/30\n",
            "69/69 [==============================] - 1s 11ms/step - loss: 0.3509 - accuracy: 0.8684 - val_loss: 0.3606 - val_accuracy: 0.8644\n",
            "Epoch 14/30\n",
            "69/69 [==============================] - 1s 10ms/step - loss: 0.3421 - accuracy: 0.8687 - val_loss: 0.3586 - val_accuracy: 0.8626\n",
            "Epoch 15/30\n",
            "69/69 [==============================] - 1s 10ms/step - loss: 0.3386 - accuracy: 0.8671 - val_loss: 0.3620 - val_accuracy: 0.8599\n",
            "Epoch 16/30\n",
            "69/69 [==============================] - 1s 10ms/step - loss: 0.3402 - accuracy: 0.8677 - val_loss: 0.3544 - val_accuracy: 0.8590\n",
            "Epoch 17/30\n",
            "69/69 [==============================] - 1s 11ms/step - loss: 0.3391 - accuracy: 0.8677 - val_loss: 0.3562 - val_accuracy: 0.8617\n",
            "Epoch 18/30\n",
            "69/69 [==============================] - 1s 12ms/step - loss: 0.3397 - accuracy: 0.8677 - val_loss: 0.3551 - val_accuracy: 0.8599\n",
            "Epoch 19/30\n",
            "69/69 [==============================] - 1s 17ms/step - loss: 0.3403 - accuracy: 0.8641 - val_loss: 0.3555 - val_accuracy: 0.8553\n",
            "Epoch 20/30\n",
            "69/69 [==============================] - 1s 17ms/step - loss: 0.3350 - accuracy: 0.8652 - val_loss: 0.3565 - val_accuracy: 0.8626\n",
            "Epoch 21/30\n",
            "69/69 [==============================] - 1s 11ms/step - loss: 0.3387 - accuracy: 0.8696 - val_loss: 0.3553 - val_accuracy: 0.8571\n",
            "Epoch 22/30\n",
            "69/69 [==============================] - 1s 11ms/step - loss: 0.3258 - accuracy: 0.8691 - val_loss: 0.3574 - val_accuracy: 0.8581\n",
            "Epoch 23/30\n",
            "69/69 [==============================] - 1s 11ms/step - loss: 0.3354 - accuracy: 0.8652 - val_loss: 0.3566 - val_accuracy: 0.8581\n",
            "Epoch 24/30\n",
            "69/69 [==============================] - 1s 11ms/step - loss: 0.3370 - accuracy: 0.8687 - val_loss: 0.3499 - val_accuracy: 0.8571\n",
            "Epoch 25/30\n",
            "69/69 [==============================] - 1s 11ms/step - loss: 0.3271 - accuracy: 0.8689 - val_loss: 0.3456 - val_accuracy: 0.8571\n",
            "Epoch 26/30\n",
            "69/69 [==============================] - 1s 11ms/step - loss: 0.3333 - accuracy: 0.8709 - val_loss: 0.3504 - val_accuracy: 0.8608\n",
            "Epoch 27/30\n",
            "69/69 [==============================] - 1s 11ms/step - loss: 0.3325 - accuracy: 0.8664 - val_loss: 0.3475 - val_accuracy: 0.8599\n",
            "Epoch 28/30\n",
            "69/69 [==============================] - 1s 10ms/step - loss: 0.3307 - accuracy: 0.8684 - val_loss: 0.3479 - val_accuracy: 0.8590\n",
            "Epoch 29/30\n",
            "69/69 [==============================] - 1s 10ms/step - loss: 0.3308 - accuracy: 0.8666 - val_loss: 0.3474 - val_accuracy: 0.8608\n",
            "Epoch 30/30\n",
            "69/69 [==============================] - 1s 11ms/step - loss: 0.3245 - accuracy: 0.8689 - val_loss: 0.3504 - val_accuracy: 0.8590\n"
          ]
        }
      ]
    },
    {
      "cell_type": "code",
      "source": [
        "acc = history4.history['accuracy']\n",
        "val_acc = history4.history['val_accuracy']\n",
        "epochs = range(1, len(acc) + 1)\n",
        "\n",
        "\n",
        "plt.plot(epochs, acc, 'bo', label='Training accuracy')\n",
        "plt.plot(epochs, val_acc, 'orange', label='Validation accuracy')\n",
        "plt.title('Training and validation accuracy')\n",
        "plt.xlabel('Epochs')\n",
        "plt.ylabel('Accuracy')\n",
        "plt.legend()\n",
        "plt.show()\n",
        "\n",
        "\n",
        "np.max(val_acc)"
      ],
      "metadata": {
        "colab": {
          "base_uri": "https://localhost:8080/",
          "height": 489
        },
        "id": "Be1Ssn5RKj-v",
        "outputId": "08446a99-ba2e-4bc0-f7d6-7a704d338bd5"
      },
      "execution_count": null,
      "outputs": [
        {
          "output_type": "display_data",
          "data": {
            "text/plain": [
              "<Figure size 640x480 with 1 Axes>"
            ],
            "image/png": "[encoded data removed]"
          },
          "metadata": {}
        },
        {
          "output_type": "execute_result",
          "data": {
            "text/plain": [
              "0.8644222021102905"
            ]
          },
          "metadata": {},
          "execution_count": 111
        }
      ]
    },
    {
      "cell_type": "code",
      "source": [
        "inputs = Input(shape=(X_train.shape[1],))\n",
        "\n",
        "x = Dense(512, kernel_regularizer=l2(0.001))(inputs)\n",
        "x = Activation('relu')(x)\n",
        "x = Dropout(0.5)(x)\n",
        "\n",
        "x = Dense(256, kernel_regularizer=l2(0.001))(x)\n",
        "x = Activation('relu')(x)\n",
        "x = Dropout(0.5)(x)\n",
        "\n",
        "# Residual connection starts here\n",
        "residual = x\n",
        "\n",
        "x = Dense(128, kernel_regularizer=l2(0.001))(x)\n",
        "x = Activation('relu')(x)\n",
        "x = Dropout(0.5)(x)\n",
        "\n",
        "x = Dense(64, kernel_regularizer=l2(0.001))(x)\n",
        "x = Activation('relu')(x)\n",
        "x = Dropout(0.5)(x)\n",
        "\n",
        "# Residual connection\n",
        "residual = Dense(64, kernel_regularizer=l2(0.001))(residual)\n",
        "x = Add()([x, residual])\n",
        "x = Activation('relu')(x)\n",
        "\n",
        "x = Dense(32, kernel_regularizer=l2(0.001))(x)\n",
        "x = Activation('relu')(x)\n",
        "x = Dropout(0.5)(x)\n",
        "\n",
        "x = Dense(16, kernel_regularizer=l2(0.001))(x)\n",
        "x = Activation('relu')(x)\n",
        "x = Dropout(0.5)(x)\n",
        "\n",
        "outputs = Dense(1, activation='sigmoid')(x)\n",
        "\n",
        "model5 = Model(inputs=inputs, outputs=outputs)\n",
        "\n",
        "# Compile the model with a lower learning rate\n",
        "optimizer = Adam(learning_rate=0.00005)\n",
        "model5.compile(optimizer=optimizer, loss='binary_crossentropy', metrics=['accuracy'])\n",
        "\n",
        "# Define early stopping callback\n",
        "early_stopping = EarlyStopping(monitor='val_loss', patience=5, restore_best_weights=True)\n",
        "\n",
        "# Train the model with increased epochs\n",
        "history5 = model5.fit(X_train, y_train, epochs=50, batch_size=64 ,validation_split=0.2, callbacks=[early_stopping])"
      ],
      "metadata": {
        "colab": {
          "base_uri": "https://localhost:8080/"
        },
        "id": "oRZAoWH1KuVK",
        "outputId": "b3dc66ae-9ecd-4565-ca9e-a5d53d212858"
      },
      "execution_count": null,
      "outputs": [
        {
          "output_type": "stream",
          "name": "stdout",
          "text": [
            "Epoch 1/50\n",
            "69/69 [==============================] - 4s 20ms/step - loss: 1.5005 - accuracy: 0.3977 - val_loss: 1.4492 - val_accuracy: 0.7762\n",
            "Epoch 2/50\n",
            "69/69 [==============================] - 1s 12ms/step - loss: 1.4607 - accuracy: 0.5001 - val_loss: 1.4317 - val_accuracy: 0.8444\n",
            "Epoch 3/50\n",
            "69/69 [==============================] - 1s 9ms/step - loss: 1.4402 - accuracy: 0.5632 - val_loss: 1.4091 - val_accuracy: 0.8453\n",
            "Epoch 4/50\n",
            "69/69 [==============================] - 1s 8ms/step - loss: 1.4116 - accuracy: 0.6317 - val_loss: 1.3818 - val_accuracy: 0.8471\n",
            "Epoch 5/50\n",
            "69/69 [==============================] - 1s 9ms/step - loss: 1.3853 - accuracy: 0.6756 - val_loss: 1.3526 - val_accuracy: 0.8526\n",
            "Epoch 6/50\n",
            "69/69 [==============================] - 1s 9ms/step - loss: 1.3606 - accuracy: 0.7004 - val_loss: 1.3178 - val_accuracy: 0.8508\n",
            "Epoch 7/50\n",
            "69/69 [==============================] - 1s 9ms/step - loss: 1.3248 - accuracy: 0.7259 - val_loss: 1.2740 - val_accuracy: 0.8508\n",
            "Epoch 8/50\n",
            "69/69 [==============================] - 1s 9ms/step - loss: 1.2873 - accuracy: 0.7375 - val_loss: 1.2279 - val_accuracy: 0.8480\n",
            "Epoch 9/50\n",
            "69/69 [==============================] - 1s 8ms/step - loss: 1.2578 - accuracy: 0.7528 - val_loss: 1.1883 - val_accuracy: 0.8471\n",
            "Epoch 10/50\n",
            "69/69 [==============================] - 1s 9ms/step - loss: 1.2258 - accuracy: 0.7551 - val_loss: 1.1535 - val_accuracy: 0.8462\n",
            "Epoch 11/50\n",
            "69/69 [==============================] - 1s 9ms/step - loss: 1.1958 - accuracy: 0.7705 - val_loss: 1.1256 - val_accuracy: 0.8444\n",
            "Epoch 12/50\n",
            "69/69 [==============================] - 1s 9ms/step - loss: 1.1664 - accuracy: 0.7903 - val_loss: 1.1002 - val_accuracy: 0.8453\n",
            "Epoch 13/50\n",
            "69/69 [==============================] - 1s 9ms/step - loss: 1.1497 - accuracy: 0.7933 - val_loss: 1.0817 - val_accuracy: 0.8462\n",
            "Epoch 14/50\n",
            "69/69 [==============================] - 1s 13ms/step - loss: 1.1302 - accuracy: 0.8020 - val_loss: 1.0656 - val_accuracy: 0.8462\n",
            "Epoch 15/50\n",
            "69/69 [==============================] - 1s 14ms/step - loss: 1.1104 - accuracy: 0.8099 - val_loss: 1.0525 - val_accuracy: 0.8462\n",
            "Epoch 16/50\n",
            "69/69 [==============================] - 1s 14ms/step - loss: 1.1124 - accuracy: 0.8070 - val_loss: 1.0411 - val_accuracy: 0.8462\n",
            "Epoch 17/50\n",
            "69/69 [==============================] - 1s 9ms/step - loss: 1.0942 - accuracy: 0.8113 - val_loss: 1.0306 - val_accuracy: 0.8462\n",
            "Epoch 18/50\n",
            "69/69 [==============================] - 1s 9ms/step - loss: 1.0784 - accuracy: 0.8156 - val_loss: 1.0198 - val_accuracy: 0.8462\n",
            "Epoch 19/50\n",
            "69/69 [==============================] - 1s 9ms/step - loss: 1.0529 - accuracy: 0.8240 - val_loss: 1.0093 - val_accuracy: 0.8471\n",
            "Epoch 20/50\n",
            "69/69 [==============================] - 1s 8ms/step - loss: 1.0596 - accuracy: 0.8190 - val_loss: 0.9995 - val_accuracy: 0.8480\n",
            "Epoch 21/50\n",
            "69/69 [==============================] - 1s 9ms/step - loss: 1.0423 - accuracy: 0.8281 - val_loss: 0.9898 - val_accuracy: 0.8480\n",
            "Epoch 22/50\n",
            "69/69 [==============================] - 1s 9ms/step - loss: 1.0303 - accuracy: 0.8334 - val_loss: 0.9804 - val_accuracy: 0.8480\n",
            "Epoch 23/50\n",
            "69/69 [==============================] - 1s 8ms/step - loss: 1.0183 - accuracy: 0.8313 - val_loss: 0.9709 - val_accuracy: 0.8480\n",
            "Epoch 24/50\n",
            "69/69 [==============================] - 1s 9ms/step - loss: 1.0182 - accuracy: 0.8259 - val_loss: 0.9627 - val_accuracy: 0.8490\n",
            "Epoch 25/50\n",
            "69/69 [==============================] - 1s 9ms/step - loss: 1.0042 - accuracy: 0.8302 - val_loss: 0.9543 - val_accuracy: 0.8499\n",
            "Epoch 26/50\n",
            "69/69 [==============================] - 1s 9ms/step - loss: 0.9990 - accuracy: 0.8354 - val_loss: 0.9455 - val_accuracy: 0.8499\n",
            "Epoch 27/50\n",
            "69/69 [==============================] - 1s 9ms/step - loss: 0.9978 - accuracy: 0.8327 - val_loss: 0.9375 - val_accuracy: 0.8490\n",
            "Epoch 28/50\n",
            "69/69 [==============================] - 1s 8ms/step - loss: 0.9671 - accuracy: 0.8347 - val_loss: 0.9288 - val_accuracy: 0.8499\n",
            "Epoch 29/50\n",
            "69/69 [==============================] - 1s 9ms/step - loss: 0.9630 - accuracy: 0.8377 - val_loss: 0.9204 - val_accuracy: 0.8508\n",
            "Epoch 30/50\n",
            "69/69 [==============================] - 1s 9ms/step - loss: 0.9622 - accuracy: 0.8413 - val_loss: 0.9117 - val_accuracy: 0.8526\n",
            "Epoch 31/50\n",
            "69/69 [==============================] - 1s 8ms/step - loss: 0.9453 - accuracy: 0.8404 - val_loss: 0.9032 - val_accuracy: 0.8526\n",
            "Epoch 32/50\n",
            "69/69 [==============================] - 1s 9ms/step - loss: 0.9405 - accuracy: 0.8359 - val_loss: 0.8956 - val_accuracy: 0.8526\n",
            "Epoch 33/50\n",
            "69/69 [==============================] - 1s 13ms/step - loss: 0.9297 - accuracy: 0.8404 - val_loss: 0.8879 - val_accuracy: 0.8526\n",
            "Epoch 34/50\n",
            "69/69 [==============================] - 1s 13ms/step - loss: 0.9266 - accuracy: 0.8422 - val_loss: 0.8801 - val_accuracy: 0.8526\n",
            "Epoch 35/50\n",
            "69/69 [==============================] - 1s 14ms/step - loss: 0.9191 - accuracy: 0.8404 - val_loss: 0.8721 - val_accuracy: 0.8526\n",
            "Epoch 36/50\n",
            "69/69 [==============================] - 1s 10ms/step - loss: 0.9047 - accuracy: 0.8397 - val_loss: 0.8646 - val_accuracy: 0.8544\n",
            "Epoch 37/50\n",
            "69/69 [==============================] - 1s 9ms/step - loss: 0.8975 - accuracy: 0.8436 - val_loss: 0.8567 - val_accuracy: 0.8535\n",
            "Epoch 38/50\n",
            "69/69 [==============================] - 1s 9ms/step - loss: 0.8864 - accuracy: 0.8436 - val_loss: 0.8494 - val_accuracy: 0.8544\n",
            "Epoch 39/50\n",
            "69/69 [==============================] - 1s 9ms/step - loss: 0.8800 - accuracy: 0.8418 - val_loss: 0.8423 - val_accuracy: 0.8544\n",
            "Epoch 40/50\n",
            "69/69 [==============================] - 1s 9ms/step - loss: 0.8847 - accuracy: 0.8434 - val_loss: 0.8348 - val_accuracy: 0.8553\n",
            "Epoch 41/50\n",
            "69/69 [==============================] - 1s 9ms/step - loss: 0.8705 - accuracy: 0.8436 - val_loss: 0.8279 - val_accuracy: 0.8553\n",
            "Epoch 42/50\n",
            "69/69 [==============================] - 1s 9ms/step - loss: 0.8654 - accuracy: 0.8445 - val_loss: 0.8213 - val_accuracy: 0.8562\n",
            "Epoch 43/50\n",
            "69/69 [==============================] - 1s 9ms/step - loss: 0.8535 - accuracy: 0.8448 - val_loss: 0.8141 - val_accuracy: 0.8562\n",
            "Epoch 44/50\n",
            "69/69 [==============================] - 1s 9ms/step - loss: 0.8479 - accuracy: 0.8445 - val_loss: 0.8074 - val_accuracy: 0.8571\n",
            "Epoch 45/50\n",
            "69/69 [==============================] - 1s 9ms/step - loss: 0.8429 - accuracy: 0.8514 - val_loss: 0.8006 - val_accuracy: 0.8571\n",
            "Epoch 46/50\n",
            "69/69 [==============================] - 1s 9ms/step - loss: 0.8394 - accuracy: 0.8498 - val_loss: 0.7938 - val_accuracy: 0.8571\n",
            "Epoch 47/50\n",
            "69/69 [==============================] - 1s 8ms/step - loss: 0.8199 - accuracy: 0.8491 - val_loss: 0.7872 - val_accuracy: 0.8562\n",
            "Epoch 48/50\n",
            "69/69 [==============================] - 1s 8ms/step - loss: 0.8125 - accuracy: 0.8468 - val_loss: 0.7812 - val_accuracy: 0.8571\n",
            "Epoch 49/50\n",
            "69/69 [==============================] - 1s 9ms/step - loss: 0.8120 - accuracy: 0.8470 - val_loss: 0.7752 - val_accuracy: 0.8562\n",
            "Epoch 50/50\n",
            "69/69 [==============================] - 1s 9ms/step - loss: 0.8115 - accuracy: 0.8509 - val_loss: 0.7689 - val_accuracy: 0.8562\n"
          ]
        }
      ]
    },
    {
      "cell_type": "code",
      "source": [
        "acc = history5.history['accuracy']\n",
        "val_acc = history5.history['val_accuracy']\n",
        "epochs = range(1, len(acc) + 1)\n",
        "\n",
        "\n",
        "plt.plot(epochs, acc, 'bo', label='Training accuracy')\n",
        "plt.plot(epochs, val_acc, 'orange', label='Validation accuracy')\n",
        "plt.title('Training and validation accuracy')\n",
        "plt.xlabel('Epochs')\n",
        "plt.ylabel('Accuracy')\n",
        "plt.legend()\n",
        "plt.show()\n",
        "\n",
        "\n",
        "np.max(val_acc)"
      ],
      "metadata": {
        "colab": {
          "base_uri": "https://localhost:8080/",
          "height": 489
        },
        "id": "z5XKTII7MVf-",
        "outputId": "6085631f-682e-4ef6-c8e2-d8c1c096837a"
      },
      "execution_count": null,
      "outputs": [
        {
          "output_type": "display_data",
          "data": {
            "text/plain": [
              "<Figure size 640x480 with 1 Axes>"
            ],
            "image/png": "[encoded data removed]"
          },
          "metadata": {}
        },
        {
          "output_type": "execute_result",
          "data": {
            "text/plain": [
              "0.8571428656578064"
            ]
          },
          "metadata": {},
          "execution_count": 130
        }
      ]
    },
    {
      "cell_type": "code",
      "source": [],
      "metadata": {
        "id": "opNCAO3OMeHJ"
      },
      "execution_count": null,
      "outputs": []
    }
  ]
}