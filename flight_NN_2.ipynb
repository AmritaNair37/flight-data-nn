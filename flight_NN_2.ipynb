{
  "nbformat": 4,
  "nbformat_minor": 0,
  "metadata": {
    "colab": {
      "provenance": []
    },
    "kernelspec": {
      "name": "python3",
      "display_name": "Python 3"
    },
    "language_info": {
      "name": "python"
    }
  },
  "cells": [
    {
      "cell_type": "code",
      "execution_count": 11,
      "metadata": {
        "id": "1wLgfRWVK1rX"
      },
      "outputs": [],
      "source": [
        "import pandas as pd\n",
        "#import tensorflow as tf\n",
        "import numpy as np\n",
        "from keras.layers import BatchNormalization\n",
        "from keras.models import Sequential\n",
        "from keras.layers import Dense,Dropout,BatchNormalization\n",
        "from keras.callbacks import EarlyStopping\n",
        "import matplotlib.pyplot as plt"
      ]
    },
    {
      "cell_type": "code",
      "source": [
        "df=pd.read_csv('features_flight_heli.csv')\n",
        "df.info()"
      ],
      "metadata": {
        "colab": {
          "base_uri": "https://localhost:8080/"
        },
        "id": "kXUMfSG4LEPx",
        "outputId": "ea6c6a86-bece-44e7-e3d4-4ed84a7c7d85"
      },
      "execution_count": 12,
      "outputs": [
        {
          "output_type": "stream",
          "name": "stdout",
          "text": [
            "<class 'pandas.core.frame.DataFrame'>\n",
            "RangeIndex: 6865 entries, 0 to 6864\n",
            "Data columns (total 6 columns):\n",
            " #   Column       Non-Null Count  Dtype  \n",
            "---  ------       --------------  -----  \n",
            " 0   fname        6865 non-null   object \n",
            " 1   alt_max      6865 non-null   float64\n",
            " 2   vert_acc     6865 non-null   float64\n",
            " 3   horiz_speed  6865 non-null   float64\n",
            " 4   dist         6865 non-null   float64\n",
            " 5   is_maneuver  6865 non-null   int64  \n",
            "dtypes: float64(4), int64(1), object(1)\n",
            "memory usage: 321.9+ KB\n"
          ]
        }
      ]
    },
    {
      "cell_type": "code",
      "source": [
        "df.drop(['fname'], axis=1, inplace=True)\n",
        "df.info()"
      ],
      "metadata": {
        "colab": {
          "base_uri": "https://localhost:8080/"
        },
        "id": "T50fT6RgLPAB",
        "outputId": "cbdf688e-c9cb-4977-fd39-62cdd4ce19cb"
      },
      "execution_count": 13,
      "outputs": [
        {
          "output_type": "stream",
          "name": "stdout",
          "text": [
            "<class 'pandas.core.frame.DataFrame'>\n",
            "RangeIndex: 6865 entries, 0 to 6864\n",
            "Data columns (total 5 columns):\n",
            " #   Column       Non-Null Count  Dtype  \n",
            "---  ------       --------------  -----  \n",
            " 0   alt_max      6865 non-null   float64\n",
            " 1   vert_acc     6865 non-null   float64\n",
            " 2   horiz_speed  6865 non-null   float64\n",
            " 3   dist         6865 non-null   float64\n",
            " 4   is_maneuver  6865 non-null   int64  \n",
            "dtypes: float64(4), int64(1)\n",
            "memory usage: 268.3 KB\n"
          ]
        }
      ]
    },
    {
      "cell_type": "code",
      "source": [
        "df['is_maneuver'].value_counts()"
      ],
      "metadata": {
        "colab": {
          "base_uri": "https://localhost:8080/"
        },
        "id": "KrdSv0lnLR2d",
        "outputId": "da2ce9c0-1ccb-4efa-d48f-67cad766a449"
      },
      "execution_count": 14,
      "outputs": [
        {
          "output_type": "execute_result",
          "data": {
            "text/plain": [
              "1    5104\n",
              "0    1761\n",
              "Name: is_maneuver, dtype: int64"
            ]
          },
          "metadata": {},
          "execution_count": 14
        }
      ]
    },
    {
      "cell_type": "code",
      "source": [
        "Y = df['is_maneuver']\n",
        "X = df.drop(['is_maneuver'], axis=1)\n",
        "\n",
        "print(X.shape)\n",
        "print(Y.shape)"
      ],
      "metadata": {
        "colab": {
          "base_uri": "https://localhost:8080/"
        },
        "id": "V1W53KzHLU6p",
        "outputId": "b808fe6e-1636-4846-8a93-e797770887e8"
      },
      "execution_count": 15,
      "outputs": [
        {
          "output_type": "stream",
          "name": "stdout",
          "text": [
            "(6865, 4)\n",
            "(6865,)\n"
          ]
        }
      ]
    },
    {
      "cell_type": "code",
      "source": [
        "X = np.array(X)\n",
        "#X = np.column_stack(('alt_max', 'vert_acc', 'horiz_speed', 'dist' ))"
      ],
      "metadata": {
        "id": "jKklIBsyLXPA"
      },
      "execution_count": 16,
      "outputs": []
    },
    {
      "cell_type": "code",
      "source": [
        "model = Sequential()\n",
        "model.add(Dense(256, input_shape=(X.shape[1],)))\n",
        "model.add(Dense(128, activation='relu'))\n",
        "model.add(BatchNormalization(synchronized=True))\n",
        "model.add(Dense(64, activation='relu'))\n",
        "model.add(Dense(32, activation='relu'))\n",
        "model.add(BatchNormalization(synchronized=True))\n",
        "model.add(Dense(16, activation='relu'))\n",
        "model.add(Dense(1, activation='sigmoid'))\n",
        "model.summary()\n"
      ],
      "metadata": {
        "colab": {
          "base_uri": "https://localhost:8080/"
        },
        "id": "OcfuAnPKLZ2P",
        "outputId": "adc78a22-827f-4a1d-eb8d-551fd5c93f88"
      },
      "execution_count": 18,
      "outputs": [
        {
          "output_type": "stream",
          "name": "stdout",
          "text": [
            "Model: \"sequential_2\"\n",
            "_________________________________________________________________\n",
            " Layer (type)                Output Shape              Param #   \n",
            "=================================================================\n",
            " dense_4 (Dense)             (None, 256)               1280      \n",
            "                                                                 \n",
            " dense_5 (Dense)             (None, 128)               32896     \n",
            "                                                                 \n",
            " batch_normalization (BatchN  (None, 128)              512       \n",
            " ormalization)                                                   \n",
            "                                                                 \n",
            " dense_6 (Dense)             (None, 64)                8256      \n",
            "                                                                 \n",
            " dense_7 (Dense)             (None, 32)                2080      \n",
            "                                                                 \n",
            " batch_normalization_1 (Batc  (None, 32)               128       \n",
            " hNormalization)                                                 \n",
            "                                                                 \n",
            " dense_8 (Dense)             (None, 16)                528       \n",
            "                                                                 \n",
            " dense_9 (Dense)             (None, 1)                 17        \n",
            "                                                                 \n",
            "=================================================================\n",
            "Total params: 45,697\n",
            "Trainable params: 45,377\n",
            "Non-trainable params: 320\n",
            "_________________________________________________________________\n"
          ]
        }
      ]
    },
    {
      "cell_type": "code",
      "source": [
        "\n",
        "model.compile(optimizer='Adam',\n",
        "              loss='binary_crossentropy',\n",
        "              metrics=['accuracy'])\n"
      ],
      "metadata": {
        "id": "MJEEZCinLdH5"
      },
      "execution_count": 19,
      "outputs": []
    },
    {
      "cell_type": "code",
      "source": [
        "es = EarlyStopping(monitor='val_accuracy',mode='max', patience=10,restore_best_weights=True)\n",
        "\n",
        "history = model.fit(X, Y,callbacks=[es],epochs=15,batch_size=10,validation_split=0.2,shuffle=True,verbose=1)"
      ],
      "metadata": {
        "colab": {
          "base_uri": "https://localhost:8080/"
        },
        "id": "x554TOCVLiDg",
        "outputId": "eaef1e3f-a4a6-4ae4-e466-b7c9e5d0b397"
      },
      "execution_count": 22,
      "outputs": [
        {
          "output_type": "stream",
          "name": "stdout",
          "text": [
            "Epoch 1/15\n",
            "550/550 [==============================] - 3s 5ms/step - loss: 0.4151 - accuracy: 0.8312 - val_loss: 0.4273 - val_accuracy: 0.8449\n",
            "Epoch 2/15\n",
            "550/550 [==============================] - 3s 5ms/step - loss: 0.4081 - accuracy: 0.8385 - val_loss: 0.4111 - val_accuracy: 0.8449\n",
            "Epoch 3/15\n",
            "550/550 [==============================] - 2s 4ms/step - loss: 0.4124 - accuracy: 0.8303 - val_loss: 0.4119 - val_accuracy: 0.8492\n",
            "Epoch 4/15\n",
            "550/550 [==============================] - 2s 4ms/step - loss: 0.4066 - accuracy: 0.8345 - val_loss: 0.4521 - val_accuracy: 0.8478\n",
            "Epoch 5/15\n",
            "550/550 [==============================] - 2s 4ms/step - loss: 0.4018 - accuracy: 0.8367 - val_loss: 0.4353 - val_accuracy: 0.8485\n",
            "Epoch 6/15\n",
            "550/550 [==============================] - 2s 4ms/step - loss: 0.4039 - accuracy: 0.8343 - val_loss: 0.4133 - val_accuracy: 0.8478\n",
            "Epoch 7/15\n",
            "550/550 [==============================] - 3s 6ms/step - loss: 0.4097 - accuracy: 0.8321 - val_loss: 0.5484 - val_accuracy: 0.7495\n",
            "Epoch 8/15\n",
            "550/550 [==============================] - 2s 4ms/step - loss: 0.4075 - accuracy: 0.8361 - val_loss: 0.5629 - val_accuracy: 0.8369\n",
            "Epoch 9/15\n",
            "550/550 [==============================] - 2s 4ms/step - loss: 0.3988 - accuracy: 0.8410 - val_loss: 0.4226 - val_accuracy: 0.8456\n",
            "Epoch 10/15\n",
            "550/550 [==============================] - 2s 4ms/step - loss: 0.4106 - accuracy: 0.8334 - val_loss: 0.4087 - val_accuracy: 0.8492\n",
            "Epoch 11/15\n",
            "550/550 [==============================] - 2s 3ms/step - loss: 0.4034 - accuracy: 0.8359 - val_loss: 0.4089 - val_accuracy: 0.8478\n",
            "Epoch 12/15\n",
            "550/550 [==============================] - 3s 5ms/step - loss: 0.4049 - accuracy: 0.8367 - val_loss: 0.4280 - val_accuracy: 0.8500\n",
            "Epoch 13/15\n",
            "550/550 [==============================] - 3s 5ms/step - loss: 0.4093 - accuracy: 0.8341 - val_loss: 0.4401 - val_accuracy: 0.8434\n",
            "Epoch 14/15\n",
            "550/550 [==============================] - 2s 4ms/step - loss: 0.4098 - accuracy: 0.8359 - val_loss: 0.4843 - val_accuracy: 0.7924\n",
            "Epoch 15/15\n",
            "550/550 [==============================] - 2s 4ms/step - loss: 0.4042 - accuracy: 0.8352 - val_loss: 0.4364 - val_accuracy: 0.8434\n"
          ]
        }
      ]
    },
    {
      "cell_type": "code",
      "source": [
        "acc = history.history['accuracy']\n",
        "val_acc = history.history['val_accuracy']\n",
        "epochs = range(1, len(acc) + 1)\n",
        "\n",
        "\n",
        "plt.plot(epochs, acc, 'bo', label='Training accuracy')\n",
        "plt.plot(epochs, val_acc, 'orange', label='Validation accuracy')\n",
        "plt.title('Training and validation accuracy')\n",
        "plt.xlabel('Epochs')\n",
        "plt.ylabel('Accuracy')\n",
        "plt.legend()\n",
        "plt.show()\n",
        "\n",
        "\n",
        "np.max(val_acc)"
      ],
      "metadata": {
        "colab": {
          "base_uri": "https://localhost:8080/",
          "height": 489
        },
        "id": "n-j2KcaKLmWw",
        "outputId": "9f10069a-c380-4208-ef57-8eec5ecad00b"
      },
      "execution_count": 23,
      "outputs": [
        {
          "output_type": "display_data",
          "data": {
            "text/plain": [
              "<Figure size 640x480 with 1 Axes>"
            ],
            "image/png": "[encoded data removed]"
          },
          "metadata": {}
        },
        {
          "output_type": "execute_result",
          "data": {
            "text/plain": [
              "0.8499636054039001"
            ]
          },
          "metadata": {},
          "execution_count": 23
        }
      ]
    },
    {
      "cell_type": "code",
      "source": [],
      "metadata": {
        "id": "qVigbD62LvZX"
      },
      "execution_count": null,
      "outputs": []
    }
  ]
}