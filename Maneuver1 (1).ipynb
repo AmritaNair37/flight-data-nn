{
  "nbformat": 4,
  "nbformat_minor": 0,
  "metadata": {
    "colab": {
      "provenance": []
    },
    "kernelspec": {
      "name": "python3",
      "display_name": "Python 3"
    },
    "language_info": {
      "name": "python"
    }
  },
  "cells": [
    {
      "cell_type": "code",
      "execution_count": 15,
      "metadata": {
        "id": "d72qOLviN0Ig"
      },
      "outputs": [],
      "source": [
        "import pandas as pd\n",
        "import numpy as np\n",
        "import random\n",
        "from sklearn.model_selection import train_test_split\n",
        "import matplotlib.pyplot as plt\n",
        "from keras.layers import Flatten, Conv1D, MaxPooling1D, Activation, concatenate, BatchNormalization, Add\n",
        "from keras.layers import Dense, LSTM, Embedding, Bidirectional, Input, Dropout\n",
        "from keras.models import Model\n",
        "\n",
        "from keras.optimizers import Adam\n",
        "from keras.callbacks import EarlyStopping\n",
        "seed=42"
      ]
    },
    {
      "cell_type": "code",
      "source": [
        "df=pd.read_csv('features_flight_heli.csv')\n",
        "df.dropna(inplace=True)\n",
        "df.info()\n"
      ],
      "metadata": {
        "colab": {
          "base_uri": "https://localhost:8080/"
        },
        "id": "MkZDQtQ9OMcL",
        "outputId": "ca340059-4089-49d0-cfb0-af3fa18e1787"
      },
      "execution_count": 5,
      "outputs": [
        {
          "output_type": "stream",
          "name": "stdout",
          "text": [
            "<class 'pandas.core.frame.DataFrame'>\n",
            "RangeIndex: 6865 entries, 0 to 6864\n",
            "Data columns (total 6 columns):\n",
            " #   Column       Non-Null Count  Dtype  \n",
            "---  ------       --------------  -----  \n",
            " 0   fname        6865 non-null   object \n",
            " 1   alt_max      6865 non-null   float64\n",
            " 2   vert_acc     6865 non-null   float64\n",
            " 3   horiz_speed  6865 non-null   float64\n",
            " 4   dist         6865 non-null   float64\n",
            " 5   is_maneuver  6865 non-null   int64  \n",
            "dtypes: float64(4), int64(1), object(1)\n",
            "memory usage: 321.9+ KB\n"
          ]
        }
      ]
    },
    {
      "cell_type": "code",
      "source": [
        "df.drop(['fname'], axis=1, inplace=True)\n",
        "df.info()"
      ],
      "metadata": {
        "colab": {
          "base_uri": "https://localhost:8080/"
        },
        "id": "YOZ_a4nqckWF",
        "outputId": "b62f6d0c-e281-4554-8ce3-483635c7e93e"
      },
      "execution_count": 6,
      "outputs": [
        {
          "output_type": "stream",
          "name": "stdout",
          "text": [
            "<class 'pandas.core.frame.DataFrame'>\n",
            "RangeIndex: 6865 entries, 0 to 6864\n",
            "Data columns (total 5 columns):\n",
            " #   Column       Non-Null Count  Dtype  \n",
            "---  ------       --------------  -----  \n",
            " 0   alt_max      6865 non-null   float64\n",
            " 1   vert_acc     6865 non-null   float64\n",
            " 2   horiz_speed  6865 non-null   float64\n",
            " 3   dist         6865 non-null   float64\n",
            " 4   is_maneuver  6865 non-null   int64  \n",
            "dtypes: float64(4), int64(1)\n",
            "memory usage: 268.3 KB\n"
          ]
        }
      ]
    },
    {
      "cell_type": "code",
      "source": [
        "df['is_maneuver'].value_counts()"
      ],
      "metadata": {
        "colab": {
          "base_uri": "https://localhost:8080/"
        },
        "id": "96QON3ypcrBR",
        "outputId": "0826932b-9ad6-4509-b2b4-205f4e1ed57e"
      },
      "execution_count": 7,
      "outputs": [
        {
          "output_type": "execute_result",
          "data": {
            "text/plain": [
              "1    5104\n",
              "0    1761\n",
              "Name: is_maneuver, dtype: int64"
            ]
          },
          "metadata": {},
          "execution_count": 7
        }
      ]
    },
    {
      "cell_type": "code",
      "source": [
        "Y = df['is_maneuver']\n",
        "X = df.drop(['is_maneuver'], axis=1)\n",
        "\n",
        "print(X.shape)\n",
        "print(Y.shape)"
      ],
      "metadata": {
        "colab": {
          "base_uri": "https://localhost:8080/"
        },
        "id": "x6dtshJidMOy",
        "outputId": "f15b70f3-1a60-475d-edb2-d340917f736f"
      },
      "execution_count": 8,
      "outputs": [
        {
          "output_type": "stream",
          "name": "stdout",
          "text": [
            "(6865, 4)\n",
            "(6865,)\n"
          ]
        }
      ]
    },
    {
      "cell_type": "markdown",
      "source": [],
      "metadata": {
        "id": "bMWLo6wAdXel"
      }
    },
    {
      "cell_type": "code",
      "source": [
        "X_train, X_test, y_train, y_test = train_test_split(X, Y, test_size=0.2, stratify=Y, random_state=seed)"
      ],
      "metadata": {
        "id": "ZdrYrvyudQSS"
      },
      "execution_count": 11,
      "outputs": []
    },
    {
      "cell_type": "code",
      "source": [
        "df.head()"
      ],
      "metadata": {
        "colab": {
          "base_uri": "https://localhost:8080/",
          "height": 206
        },
        "id": "qXzKsvXBdT3u",
        "outputId": "91fcd9d6-3f19-4bbf-a92a-fcbac6cf34ca"
      },
      "execution_count": 12,
      "outputs": [
        {
          "output_type": "execute_result",
          "data": {
            "text/plain": [
              "   alt_max  vert_acc  horiz_speed       dist  is_maneuver\n",
              "0   9479.0 -0.143793   241.277903  12.318341            0\n",
              "1  10104.0  0.537735   171.344710  17.558203            1\n",
              "2   3650.0 -1.418815   123.471539   0.605749            1\n",
              "3   9479.0 -0.000318   235.397455  13.761831            1\n",
              "4  10066.0 -0.208709   135.173804  13.815511            1"
            ],
            "text/html": [
              "\n",
              "\n",
              "  <div id=\"df-9b5e887c-6b88-438f-a228-d803ce7f98aa\">\n",
              "    <div class=\"colab-df-container\">\n",
              "      <div>\n",
              "<style scoped>\n",
              "    .dataframe tbody tr th:only-of-type {\n",
              "        vertical-align: middle;\n",
              "    }\n",
              "\n",
              "    .dataframe tbody tr th {\n",
              "        vertical-align: top;\n",
              "    }\n",
              "\n",
              "    .dataframe thead th {\n",
              "        text-align: right;\n",
              "    }\n",
              "</style>\n",
              "<table border=\"1\" class=\"dataframe\">\n",
              "  <thead>\n",
              "    <tr style=\"text-align: right;\">\n",
              "      <th></th>\n",
              "      <th>alt_max</th>\n",
              "      <th>vert_acc</th>\n",
              "      <th>horiz_speed</th>\n",
              "      <th>dist</th>\n",
              "      <th>is_maneuver</th>\n",
              "    </tr>\n",
              "  </thead>\n",
              "  <tbody>\n",
              "    <tr>\n",
              "      <th>0</th>\n",
              "      <td>9479.0</td>\n",
              "      <td>-0.143793</td>\n",
              "      <td>241.277903</td>\n",
              "      <td>12.318341</td>\n",
              "      <td>0</td>\n",
              "    </tr>\n",
              "    <tr>\n",
              "      <th>1</th>\n",
              "      <td>10104.0</td>\n",
              "      <td>0.537735</td>\n",
              "      <td>171.344710</td>\n",
              "      <td>17.558203</td>\n",
              "      <td>1</td>\n",
              "    </tr>\n",
              "    <tr>\n",
              "      <th>2</th>\n",
              "      <td>3650.0</td>\n",
              "      <td>-1.418815</td>\n",
              "      <td>123.471539</td>\n",
              "      <td>0.605749</td>\n",
              "      <td>1</td>\n",
              "    </tr>\n",
              "    <tr>\n",
              "      <th>3</th>\n",
              "      <td>9479.0</td>\n",
              "      <td>-0.000318</td>\n",
              "      <td>235.397455</td>\n",
              "      <td>13.761831</td>\n",
              "      <td>1</td>\n",
              "    </tr>\n",
              "    <tr>\n",
              "      <th>4</th>\n",
              "      <td>10066.0</td>\n",
              "      <td>-0.208709</td>\n",
              "      <td>135.173804</td>\n",
              "      <td>13.815511</td>\n",
              "      <td>1</td>\n",
              "    </tr>\n",
              "  </tbody>\n",
              "</table>\n",
              "</div>\n",
              "      <button class=\"colab-df-convert\" onclick=\"convertToInteractive('df-9b5e887c-6b88-438f-a228-d803ce7f98aa')\"\n",
              "              title=\"Convert this dataframe to an interactive table.\"\n",
              "              style=\"display:none;\">\n",
              "\n",
              "  <svg xmlns=\"http://www.w3.org/2000/svg\" height=\"24px\"viewBox=\"0 0 24 24\"\n",
              "       width=\"24px\">\n",
              "    <path d=\"M0 0h24v24H0V0z\" fill=\"none\"/>\n",
              "    <path d=\"M18.56 5.44l.94 2.06.94-2.06 2.06-.94-2.06-.94-.94-2.06-.94 2.06-2.06.94zm-11 1L8.5 8.5l.94-2.06 2.06-.94-2.06-.94L8.5 2.5l-.94 2.06-2.06.94zm10 10l.94 2.06.94-2.06 2.06-.94-2.06-.94-.94-2.06-.94 2.06-2.06.94z\"/><path d=\"M17.41 7.96l-1.37-1.37c-.4-.4-.92-.59-1.43-.59-.52 0-1.04.2-1.43.59L10.3 9.45l-7.72 7.72c-.78.78-.78 2.05 0 2.83L4 21.41c.39.39.9.59 1.41.59.51 0 1.02-.2 1.41-.59l7.78-7.78 2.81-2.81c.8-.78.8-2.07 0-2.86zM5.41 20L4 18.59l7.72-7.72 1.47 1.35L5.41 20z\"/>\n",
              "  </svg>\n",
              "      </button>\n",
              "\n",
              "\n",
              "\n",
              "    <div id=\"df-e52f26df-66cc-4c53-81e4-c9c78b683427\">\n",
              "      <button class=\"colab-df-quickchart\" onclick=\"quickchart('df-e52f26df-66cc-4c53-81e4-c9c78b683427')\"\n",
              "              title=\"Suggest charts.\"\n",
              "              style=\"display:none;\">\n",
              "\n",
              "<svg xmlns=\"http://www.w3.org/2000/svg\" height=\"24px\"viewBox=\"0 0 24 24\"\n",
              "     width=\"24px\">\n",
              "    <g>\n",
              "        <path d=\"M19 3H5c-1.1 0-2 .9-2 2v14c0 1.1.9 2 2 2h14c1.1 0 2-.9 2-2V5c0-1.1-.9-2-2-2zM9 17H7v-7h2v7zm4 0h-2V7h2v10zm4 0h-2v-4h2v4z\"/>\n",
              "    </g>\n",
              "</svg>\n",
              "      </button>\n",
              "    </div>\n",
              "\n",
              "<style>\n",
              "  .colab-df-quickchart {\n",
              "    background-color: #E8F0FE;\n",
              "    border: none;\n",
              "    border-radius: 50%;\n",
              "    cursor: pointer;\n",
              "    display: none;\n",
              "    fill: #1967D2;\n",
              "    height: 32px;\n",
              "    padding: 0 0 0 0;\n",
              "    width: 32px;\n",
              "  }\n",
              "\n",
              "  .colab-df-quickchart:hover {\n",
              "    background-color: #E2EBFA;\n",
              "    box-shadow: 0px 1px 2px rgba(60, 64, 67, 0.3), 0px 1px 3px 1px rgba(60, 64, 67, 0.15);\n",
              "    fill: #174EA6;\n",
              "  }\n",
              "\n",
              "  [theme=dark] .colab-df-quickchart {\n",
              "    background-color: #3B4455;\n",
              "    fill: #D2E3FC;\n",
              "  }\n",
              "\n",
              "  [theme=dark] .colab-df-quickchart:hover {\n",
              "    background-color: #434B5C;\n",
              "    box-shadow: 0px 1px 3px 1px rgba(0, 0, 0, 0.15);\n",
              "    filter: drop-shadow(0px 1px 2px rgba(0, 0, 0, 0.3));\n",
              "    fill: #FFFFFF;\n",
              "  }\n",
              "</style>\n",
              "\n",
              "    <script>\n",
              "      async function quickchart(key) {\n",
              "        const containerElement = document.querySelector('#' + key);\n",
              "        const charts = await google.colab.kernel.invokeFunction(\n",
              "            'suggestCharts', [key], {});\n",
              "      }\n",
              "    </script>\n",
              "\n",
              "      <script>\n",
              "\n",
              "function displayQuickchartButton(domScope) {\n",
              "  let quickchartButtonEl =\n",
              "    domScope.querySelector('#df-e52f26df-66cc-4c53-81e4-c9c78b683427 button.colab-df-quickchart');\n",
              "  quickchartButtonEl.style.display =\n",
              "    google.colab.kernel.accessAllowed ? 'block' : 'none';\n",
              "}\n",
              "\n",
              "        displayQuickchartButton(document);\n",
              "      </script>\n",
              "      <style>\n",
              "    .colab-df-container {\n",
              "      display:flex;\n",
              "      flex-wrap:wrap;\n",
              "      gap: 12px;\n",
              "    }\n",
              "\n",
              "    .colab-df-convert {\n",
              "      background-color: #E8F0FE;\n",
              "      border: none;\n",
              "      border-radius: 50%;\n",
              "      cursor: pointer;\n",
              "      display: none;\n",
              "      fill: #1967D2;\n",
              "      height: 32px;\n",
              "      padding: 0 0 0 0;\n",
              "      width: 32px;\n",
              "    }\n",
              "\n",
              "    .colab-df-convert:hover {\n",
              "      background-color: #E2EBFA;\n",
              "      box-shadow: 0px 1px 2px rgba(60, 64, 67, 0.3), 0px 1px 3px 1px rgba(60, 64, 67, 0.15);\n",
              "      fill: #174EA6;\n",
              "    }\n",
              "\n",
              "    [theme=dark] .colab-df-convert {\n",
              "      background-color: #3B4455;\n",
              "      fill: #D2E3FC;\n",
              "    }\n",
              "\n",
              "    [theme=dark] .colab-df-convert:hover {\n",
              "      background-color: #434B5C;\n",
              "      box-shadow: 0px 1px 3px 1px rgba(0, 0, 0, 0.15);\n",
              "      filter: drop-shadow(0px 1px 2px rgba(0, 0, 0, 0.3));\n",
              "      fill: #FFFFFF;\n",
              "    }\n",
              "  </style>\n",
              "\n",
              "      <script>\n",
              "        const buttonEl =\n",
              "          document.querySelector('#df-9b5e887c-6b88-438f-a228-d803ce7f98aa button.colab-df-convert');\n",
              "        buttonEl.style.display =\n",
              "          google.colab.kernel.accessAllowed ? 'block' : 'none';\n",
              "\n",
              "        async function convertToInteractive(key) {\n",
              "          const element = document.querySelector('#df-9b5e887c-6b88-438f-a228-d803ce7f98aa');\n",
              "          const dataTable =\n",
              "            await google.colab.kernel.invokeFunction('convertToInteractive',\n",
              "                                                     [key], {});\n",
              "          if (!dataTable) return;\n",
              "\n",
              "          const docLinkHtml = 'Like what you see? Visit the ' +\n",
              "            '<a target=\"_blank\" href=https://colab.research.google.com/notebooks/data_table.ipynb>data table notebook</a>'\n",
              "            + ' to learn more about interactive tables.';\n",
              "          element.innerHTML = '';\n",
              "          dataTable['output_type'] = 'display_data';\n",
              "          await google.colab.output.renderOutput(dataTable, element);\n",
              "          const docLink = document.createElement('div');\n",
              "          docLink.innerHTML = docLinkHtml;\n",
              "          element.appendChild(docLink);\n",
              "        }\n",
              "      </script>\n",
              "    </div>\n",
              "  </div>\n"
            ]
          },
          "metadata": {},
          "execution_count": 12
        }
      ]
    },
    {
      "cell_type": "code",
      "source": [
        "X_train = np.array(X_train)\n",
        "X_test=np.array(X_test)"
      ],
      "metadata": {
        "id": "qVp62r6jdnt7"
      },
      "execution_count": 19,
      "outputs": []
    },
    {
      "cell_type": "code",
      "source": [
        "\n",
        "\n",
        "\n",
        "mean = X_train.mean(axis=0)\n",
        "std = X_train.std(axis=0)\n",
        "X_train = (X_train - mean) / std\n",
        "\n",
        "inputs = Input(shape=(X_train.shape[1],))\n",
        "\n",
        "# Initial dense layers\n",
        "x = Dense(256)(inputs)\n",
        "x = Activation('relu')(x)\n",
        "x = BatchNormalization()(x)\n",
        "x = Dropout(0.5)(x)\n",
        "\n",
        "x = Dense(128)(x)\n",
        "x = Activation('relu')(x)\n",
        "x = BatchNormalization()(x)\n",
        "x = Dropout(0.5)(x)\n",
        "\n",
        "# Residual connection starts here\n",
        "residual = x\n",
        "\n",
        "x = Dense(64)(x)\n",
        "x = Activation('relu')(x)\n",
        "x = BatchNormalization()(x)\n",
        "x = Dropout(0.5)(x)\n",
        "\n",
        "x = Dense(32)(x)\n",
        "x = Activation('relu')(x)\n",
        "x = BatchNormalization()(x)\n",
        "x = Dropout(0.5)(x)\n",
        "\n",
        "x = Dense(16)(x)\n",
        "x = Activation('relu')(x)\n",
        "x = BatchNormalization()(x)\n",
        "x = Dropout(0.5)(x)\n",
        "\n",
        "# Residual connection\n",
        "residual = Dense(16)(residual)\n",
        "x = Add()([x, residual])\n",
        "x = Activation('relu')(x)\n",
        "\n",
        "# Output layer\n",
        "outputs = Dense(1, activation='sigmoid')(x)\n",
        "\n",
        "# Create the model\n",
        "model2 = Model(inputs=inputs, outputs=outputs)\n",
        "\n",
        "# Compile the model\n",
        "optimizer = Adam(learning_rate=0.0001)\n",
        "model2.compile(optimizer=optimizer, loss='binary_crossentropy', metrics=['accuracy'])\n",
        "\n",
        "# Define early stopping callback\n",
        "early_stopping = EarlyStopping(monitor='val_loss', patience=5, restore_best_weights=True)\n",
        "\n",
        "# Train the model\n",
        "history2 = model2.fit(X_train, y_train, epochs=20, batch_size=64, validation_split=0.2, callbacks=[early_stopping])\n"
      ],
      "metadata": {
        "colab": {
          "base_uri": "https://localhost:8080/"
        },
        "id": "evTXWAz3tqEh",
        "outputId": "fb2cbe6d-0c74-4c40-b679-4d3ac0905dab"
      },
      "execution_count": 97,
      "outputs": [
        {
          "output_type": "stream",
          "name": "stdout",
          "text": [
            "Epoch 1/20\n",
            "69/69 [==============================] - 4s 20ms/step - loss: 0.9873 - accuracy: 0.5188 - val_loss: 0.7256 - val_accuracy: 0.2994\n",
            "Epoch 2/20\n",
            "69/69 [==============================] - 1s 13ms/step - loss: 0.8081 - accuracy: 0.6239 - val_loss: 0.7214 - val_accuracy: 0.3458\n",
            "Epoch 3/20\n",
            "69/69 [==============================] - 0s 7ms/step - loss: 0.7310 - accuracy: 0.6754 - val_loss: 0.6652 - val_accuracy: 0.5396\n",
            "Epoch 4/20\n",
            "69/69 [==============================] - 0s 7ms/step - loss: 0.6538 - accuracy: 0.7282 - val_loss: 0.5882 - val_accuracy: 0.7361\n",
            "Epoch 5/20\n",
            "69/69 [==============================] - 0s 7ms/step - loss: 0.6210 - accuracy: 0.7382 - val_loss: 0.5088 - val_accuracy: 0.8016\n",
            "Epoch 6/20\n",
            "69/69 [==============================] - 0s 7ms/step - loss: 0.5737 - accuracy: 0.7639 - val_loss: 0.4552 - val_accuracy: 0.8326\n",
            "Epoch 7/20\n",
            "69/69 [==============================] - 0s 6ms/step - loss: 0.5365 - accuracy: 0.7819 - val_loss: 0.4240 - val_accuracy: 0.8471\n",
            "Epoch 8/20\n",
            "69/69 [==============================] - 0s 6ms/step - loss: 0.5328 - accuracy: 0.7831 - val_loss: 0.4119 - val_accuracy: 0.8553\n",
            "Epoch 9/20\n",
            "69/69 [==============================] - 0s 7ms/step - loss: 0.5042 - accuracy: 0.7942 - val_loss: 0.4081 - val_accuracy: 0.8535\n",
            "Epoch 10/20\n",
            "69/69 [==============================] - 0s 7ms/step - loss: 0.4894 - accuracy: 0.8074 - val_loss: 0.4078 - val_accuracy: 0.8535\n",
            "Epoch 11/20\n",
            "69/69 [==============================] - 0s 6ms/step - loss: 0.4727 - accuracy: 0.8129 - val_loss: 0.4105 - val_accuracy: 0.8480\n",
            "Epoch 12/20\n",
            "69/69 [==============================] - 1s 9ms/step - loss: 0.4831 - accuracy: 0.8133 - val_loss: 0.4109 - val_accuracy: 0.8508\n",
            "Epoch 13/20\n",
            "69/69 [==============================] - 1s 9ms/step - loss: 0.4731 - accuracy: 0.8154 - val_loss: 0.4117 - val_accuracy: 0.8462\n",
            "Epoch 14/20\n",
            "69/69 [==============================] - 1s 10ms/step - loss: 0.4596 - accuracy: 0.8190 - val_loss: 0.4159 - val_accuracy: 0.8426\n",
            "Epoch 15/20\n",
            "69/69 [==============================] - 1s 10ms/step - loss: 0.4463 - accuracy: 0.8290 - val_loss: 0.4155 - val_accuracy: 0.8408\n"
          ]
        }
      ]
    },
    {
      "cell_type": "code",
      "source": [
        "acc = history2.history['accuracy']\n",
        "val_acc = history2.history['val_accuracy']\n",
        "epochs = range(1, len(acc) + 1)\n",
        "\n",
        "\n",
        "plt.plot(epochs, acc, 'bo', label='Training accuracy')\n",
        "plt.plot(epochs, val_acc, 'orange', label='Validation accuracy')\n",
        "plt.title('Training and validation accuracy')\n",
        "plt.xlabel('Epochs')\n",
        "plt.ylabel('Accuracy')\n",
        "plt.legend()\n",
        "plt.show()\n",
        "\n",
        "\n",
        "np.max(val_acc)"
      ],
      "metadata": {
        "colab": {
          "base_uri": "https://localhost:8080/",
          "height": 489
        },
        "id": "0RS4mDTX02N4",
        "outputId": "f62b8f62-ddaf-4f0b-f895-863bcc83fa56"
      },
      "execution_count": 98,
      "outputs": [
        {
          "output_type": "display_data",
          "data": {
            "text/plain": [
              "<Figure size 640x480 with 1 Axes>"
            ],
            "image/png": "[encoded data removed]"
          },
          "metadata": {}
        },
        {
          "output_type": "execute_result",
          "data": {
            "text/plain": [
              "0.8553230166435242"
            ]
          },
          "metadata": {},
          "execution_count": 98
        }
      ]
    },
    {
      "cell_type": "code",
      "source": [],
      "metadata": {
        "id": "u0UbIeH51CMB"
      },
      "execution_count": null,
      "outputs": []
    }
  ]
}