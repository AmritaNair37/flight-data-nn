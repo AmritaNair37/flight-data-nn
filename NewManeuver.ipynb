{
  "nbformat": 4,
  "nbformat_minor": 0,
  "metadata": {
    "colab": {
      "provenance": []
    },
    "kernelspec": {
      "name": "python3",
      "display_name": "Python 3"
    },
    "language_info": {
      "name": "python"
    }
  },
  "cells": [
    {
      "cell_type": "code",
      "execution_count": null,
      "metadata": {
        "id": "XQPNV6QcD1MK"
      },
      "outputs": [],
      "source": [
        "import pandas as pd\n",
        "import numpy as np\n",
        "import random\n",
        "from sklearn.model_selection import train_test_split\n",
        "from imblearn.over_sampling import RandomOverSampler\n",
        "import matplotlib.pyplot as plt\n",
        "from keras.layers import Flatten, Conv1D, MaxPooling1D, Activation, concatenate, BatchNormalization, Add\n",
        "from keras.optimizers import Adam\n",
        "from keras.layers import Dense, LSTM, Embedding, Bidirectional, Input, Dropout\n",
        "from keras.models import Model\n",
        "from keras.callbacks import EarlyStopping\n",
        "\n",
        "seed=42"
      ]
    },
    {
      "cell_type": "code",
      "source": [
        "df=pd.read_csv('features_flight_heli.csv')\n",
        "df.dropna(inplace=True)\n",
        "df.info()\n"
      ],
      "metadata": {
        "colab": {
          "base_uri": "https://localhost:8080/"
        },
        "id": "V9S2NT0pEKg-",
        "outputId": "21daa0c2-1406-41f1-d9f4-8f1d84850c6c"
      },
      "execution_count": null,
      "outputs": [
        {
          "output_type": "stream",
          "name": "stdout",
          "text": [
            "<class 'pandas.core.frame.DataFrame'>\n",
            "RangeIndex: 6865 entries, 0 to 6864\n",
            "Data columns (total 6 columns):\n",
            " #   Column       Non-Null Count  Dtype  \n",
            "---  ------       --------------  -----  \n",
            " 0   fname        6865 non-null   object \n",
            " 1   alt_max      6865 non-null   float64\n",
            " 2   vert_acc     6865 non-null   float64\n",
            " 3   horiz_speed  6865 non-null   float64\n",
            " 4   dist         6865 non-null   float64\n",
            " 5   is_maneuver  6865 non-null   int64  \n",
            "dtypes: float64(4), int64(1), object(1)\n",
            "memory usage: 321.9+ KB\n"
          ]
        }
      ]
    },
    {
      "cell_type": "code",
      "source": [
        "df.drop(['fname'], axis=1, inplace=True)\n",
        "df.info()"
      ],
      "metadata": {
        "colab": {
          "base_uri": "https://localhost:8080/"
        },
        "id": "FnZV7fLKEaHW",
        "outputId": "399b53bd-baee-41f1-ea96-67ade67c02d6"
      },
      "execution_count": null,
      "outputs": [
        {
          "output_type": "stream",
          "name": "stdout",
          "text": [
            "<class 'pandas.core.frame.DataFrame'>\n",
            "RangeIndex: 6865 entries, 0 to 6864\n",
            "Data columns (total 5 columns):\n",
            " #   Column       Non-Null Count  Dtype  \n",
            "---  ------       --------------  -----  \n",
            " 0   alt_max      6865 non-null   float64\n",
            " 1   vert_acc     6865 non-null   float64\n",
            " 2   horiz_speed  6865 non-null   float64\n",
            " 3   dist         6865 non-null   float64\n",
            " 4   is_maneuver  6865 non-null   int64  \n",
            "dtypes: float64(4), int64(1)\n",
            "memory usage: 268.3 KB\n"
          ]
        }
      ]
    },
    {
      "cell_type": "code",
      "source": [
        "df['is_maneuver'].value_counts()"
      ],
      "metadata": {
        "colab": {
          "base_uri": "https://localhost:8080/"
        },
        "id": "wzEag1qcEoZy",
        "outputId": "15cda3e0-9042-466e-d72d-be6cb057003a"
      },
      "execution_count": null,
      "outputs": [
        {
          "output_type": "execute_result",
          "data": {
            "text/plain": [
              "1    5104\n",
              "0    1761\n",
              "Name: is_maneuver, dtype: int64"
            ]
          },
          "metadata": {},
          "execution_count": 4
        }
      ]
    },
    {
      "cell_type": "code",
      "source": [
        "Y = df['is_maneuver']\n",
        "X = df.drop(['is_maneuver'], axis=1)\n",
        "\n",
        "print(X.shape)\n",
        "print(Y.shape)"
      ],
      "metadata": {
        "colab": {
          "base_uri": "https://localhost:8080/"
        },
        "id": "TgfmbgOKE4Ar",
        "outputId": "8ab1edda-1663-48d7-9455-518b7a808324"
      },
      "execution_count": null,
      "outputs": [
        {
          "output_type": "stream",
          "name": "stdout",
          "text": [
            "(6865, 4)\n",
            "(6865,)\n"
          ]
        }
      ]
    },
    {
      "cell_type": "code",
      "source": [
        "X_train, X_test, y_train, y_test = train_test_split(X, Y, test_size=0.2, stratify=Y, random_state=seed)"
      ],
      "metadata": {
        "id": "aJe8JxaTFU0p"
      },
      "execution_count": null,
      "outputs": []
    },
    {
      "cell_type": "code",
      "source": [
        "df.head()"
      ],
      "metadata": {
        "colab": {
          "base_uri": "https://localhost:8080/",
          "height": 206
        },
        "id": "9vHZl5DWFsn0",
        "outputId": "3be87b8a-bc0d-48f5-eff4-7efa4491cd0f"
      },
      "execution_count": null,
      "outputs": [
        {
          "output_type": "execute_result",
          "data": {
            "text/plain": [
              "   alt_max  vert_acc  horiz_speed       dist  is_maneuver\n",
              "0   9479.0 -0.143793   241.277903  12.318341            0\n",
              "1  10104.0  0.537735   171.344710  17.558203            1\n",
              "2   3650.0 -1.418815   123.471539   0.605749            1\n",
              "3   9479.0 -0.000318   235.397455  13.761831            1\n",
              "4  10066.0 -0.208709   135.173804  13.815511            1"
            ],
            "text/html": [
              "\n",
              "\n",
              "  <div id=\"df-00c50fdd-d359-4d60-8f91-d625fa601d0d\">\n",
              "    <div class=\"colab-df-container\">\n",
              "      <div>\n",
              "<style scoped>\n",
              "    .dataframe tbody tr th:only-of-type {\n",
              "        vertical-align: middle;\n",
              "    }\n",
              "\n",
              "    .dataframe tbody tr th {\n",
              "        vertical-align: top;\n",
              "    }\n",
              "\n",
              "    .dataframe thead th {\n",
              "        text-align: right;\n",
              "    }\n",
              "</style>\n",
              "<table border=\"1\" class=\"dataframe\">\n",
              "  <thead>\n",
              "    <tr style=\"text-align: right;\">\n",
              "      <th></th>\n",
              "      <th>alt_max</th>\n",
              "      <th>vert_acc</th>\n",
              "      <th>horiz_speed</th>\n",
              "      <th>dist</th>\n",
              "      <th>is_maneuver</th>\n",
              "    </tr>\n",
              "  </thead>\n",
              "  <tbody>\n",
              "    <tr>\n",
              "      <th>0</th>\n",
              "      <td>9479.0</td>\n",
              "      <td>-0.143793</td>\n",
              "      <td>241.277903</td>\n",
              "      <td>12.318341</td>\n",
              "      <td>0</td>\n",
              "    </tr>\n",
              "    <tr>\n",
              "      <th>1</th>\n",
              "      <td>10104.0</td>\n",
              "      <td>0.537735</td>\n",
              "      <td>171.344710</td>\n",
              "      <td>17.558203</td>\n",
              "      <td>1</td>\n",
              "    </tr>\n",
              "    <tr>\n",
              "      <th>2</th>\n",
              "      <td>3650.0</td>\n",
              "      <td>-1.418815</td>\n",
              "      <td>123.471539</td>\n",
              "      <td>0.605749</td>\n",
              "      <td>1</td>\n",
              "    </tr>\n",
              "    <tr>\n",
              "      <th>3</th>\n",
              "      <td>9479.0</td>\n",
              "      <td>-0.000318</td>\n",
              "      <td>235.397455</td>\n",
              "      <td>13.761831</td>\n",
              "      <td>1</td>\n",
              "    </tr>\n",
              "    <tr>\n",
              "      <th>4</th>\n",
              "      <td>10066.0</td>\n",
              "      <td>-0.208709</td>\n",
              "      <td>135.173804</td>\n",
              "      <td>13.815511</td>\n",
              "      <td>1</td>\n",
              "    </tr>\n",
              "  </tbody>\n",
              "</table>\n",
              "</div>\n",
              "      <button class=\"colab-df-convert\" onclick=\"convertToInteractive('df-00c50fdd-d359-4d60-8f91-d625fa601d0d')\"\n",
              "              title=\"Convert this dataframe to an interactive table.\"\n",
              "              style=\"display:none;\">\n",
              "\n",
              "  <svg xmlns=\"http://www.w3.org/2000/svg\" height=\"24px\"viewBox=\"0 0 24 24\"\n",
              "       width=\"24px\">\n",
              "    <path d=\"M0 0h24v24H0V0z\" fill=\"none\"/>\n",
              "    <path d=\"M18.56 5.44l.94 2.06.94-2.06 2.06-.94-2.06-.94-.94-2.06-.94 2.06-2.06.94zm-11 1L8.5 8.5l.94-2.06 2.06-.94-2.06-.94L8.5 2.5l-.94 2.06-2.06.94zm10 10l.94 2.06.94-2.06 2.06-.94-2.06-.94-.94-2.06-.94 2.06-2.06.94z\"/><path d=\"M17.41 7.96l-1.37-1.37c-.4-.4-.92-.59-1.43-.59-.52 0-1.04.2-1.43.59L10.3 9.45l-7.72 7.72c-.78.78-.78 2.05 0 2.83L4 21.41c.39.39.9.59 1.41.59.51 0 1.02-.2 1.41-.59l7.78-7.78 2.81-2.81c.8-.78.8-2.07 0-2.86zM5.41 20L4 18.59l7.72-7.72 1.47 1.35L5.41 20z\"/>\n",
              "  </svg>\n",
              "      </button>\n",
              "\n",
              "\n",
              "\n",
              "    <div id=\"df-945e6791-e493-4dfd-8336-d6f49e383473\">\n",
              "      <button class=\"colab-df-quickchart\" onclick=\"quickchart('df-945e6791-e493-4dfd-8336-d6f49e383473')\"\n",
              "              title=\"Suggest charts.\"\n",
              "              style=\"display:none;\">\n",
              "\n",
              "<svg xmlns=\"http://www.w3.org/2000/svg\" height=\"24px\"viewBox=\"0 0 24 24\"\n",
              "     width=\"24px\">\n",
              "    <g>\n",
              "        <path d=\"M19 3H5c-1.1 0-2 .9-2 2v14c0 1.1.9 2 2 2h14c1.1 0 2-.9 2-2V5c0-1.1-.9-2-2-2zM9 17H7v-7h2v7zm4 0h-2V7h2v10zm4 0h-2v-4h2v4z\"/>\n",
              "    </g>\n",
              "</svg>\n",
              "      </button>\n",
              "    </div>\n",
              "\n",
              "<style>\n",
              "  .colab-df-quickchart {\n",
              "    background-color: #E8F0FE;\n",
              "    border: none;\n",
              "    border-radius: 50%;\n",
              "    cursor: pointer;\n",
              "    display: none;\n",
              "    fill: #1967D2;\n",
              "    height: 32px;\n",
              "    padding: 0 0 0 0;\n",
              "    width: 32px;\n",
              "  }\n",
              "\n",
              "  .colab-df-quickchart:hover {\n",
              "    background-color: #E2EBFA;\n",
              "    box-shadow: 0px 1px 2px rgba(60, 64, 67, 0.3), 0px 1px 3px 1px rgba(60, 64, 67, 0.15);\n",
              "    fill: #174EA6;\n",
              "  }\n",
              "\n",
              "  [theme=dark] .colab-df-quickchart {\n",
              "    background-color: #3B4455;\n",
              "    fill: #D2E3FC;\n",
              "  }\n",
              "\n",
              "  [theme=dark] .colab-df-quickchart:hover {\n",
              "    background-color: #434B5C;\n",
              "    box-shadow: 0px 1px 3px 1px rgba(0, 0, 0, 0.15);\n",
              "    filter: drop-shadow(0px 1px 2px rgba(0, 0, 0, 0.3));\n",
              "    fill: #FFFFFF;\n",
              "  }\n",
              "</style>\n",
              "\n",
              "    <script>\n",
              "      async function quickchart(key) {\n",
              "        const containerElement = document.querySelector('#' + key);\n",
              "        const charts = await google.colab.kernel.invokeFunction(\n",
              "            'suggestCharts', [key], {});\n",
              "      }\n",
              "    </script>\n",
              "\n",
              "      <script>\n",
              "\n",
              "function displayQuickchartButton(domScope) {\n",
              "  let quickchartButtonEl =\n",
              "    domScope.querySelector('#df-945e6791-e493-4dfd-8336-d6f49e383473 button.colab-df-quickchart');\n",
              "  quickchartButtonEl.style.display =\n",
              "    google.colab.kernel.accessAllowed ? 'block' : 'none';\n",
              "}\n",
              "\n",
              "        displayQuickchartButton(document);\n",
              "      </script>\n",
              "      <style>\n",
              "    .colab-df-container {\n",
              "      display:flex;\n",
              "      flex-wrap:wrap;\n",
              "      gap: 12px;\n",
              "    }\n",
              "\n",
              "    .colab-df-convert {\n",
              "      background-color: #E8F0FE;\n",
              "      border: none;\n",
              "      border-radius: 50%;\n",
              "      cursor: pointer;\n",
              "      display: none;\n",
              "      fill: #1967D2;\n",
              "      height: 32px;\n",
              "      padding: 0 0 0 0;\n",
              "      width: 32px;\n",
              "    }\n",
              "\n",
              "    .colab-df-convert:hover {\n",
              "      background-color: #E2EBFA;\n",
              "      box-shadow: 0px 1px 2px rgba(60, 64, 67, 0.3), 0px 1px 3px 1px rgba(60, 64, 67, 0.15);\n",
              "      fill: #174EA6;\n",
              "    }\n",
              "\n",
              "    [theme=dark] .colab-df-convert {\n",
              "      background-color: #3B4455;\n",
              "      fill: #D2E3FC;\n",
              "    }\n",
              "\n",
              "    [theme=dark] .colab-df-convert:hover {\n",
              "      background-color: #434B5C;\n",
              "      box-shadow: 0px 1px 3px 1px rgba(0, 0, 0, 0.15);\n",
              "      filter: drop-shadow(0px 1px 2px rgba(0, 0, 0, 0.3));\n",
              "      fill: #FFFFFF;\n",
              "    }\n",
              "  </style>\n",
              "\n",
              "      <script>\n",
              "        const buttonEl =\n",
              "          document.querySelector('#df-00c50fdd-d359-4d60-8f91-d625fa601d0d button.colab-df-convert');\n",
              "        buttonEl.style.display =\n",
              "          google.colab.kernel.accessAllowed ? 'block' : 'none';\n",
              "\n",
              "        async function convertToInteractive(key) {\n",
              "          const element = document.querySelector('#df-00c50fdd-d359-4d60-8f91-d625fa601d0d');\n",
              "          const dataTable =\n",
              "            await google.colab.kernel.invokeFunction('convertToInteractive',\n",
              "                                                     [key], {});\n",
              "          if (!dataTable) return;\n",
              "\n",
              "          const docLinkHtml = 'Like what you see? Visit the ' +\n",
              "            '<a target=\"_blank\" href=https://colab.research.google.com/notebooks/data_table.ipynb>data table notebook</a>'\n",
              "            + ' to learn more about interactive tables.';\n",
              "          element.innerHTML = '';\n",
              "          dataTable['output_type'] = 'display_data';\n",
              "          await google.colab.output.renderOutput(dataTable, element);\n",
              "          const docLink = document.createElement('div');\n",
              "          docLink.innerHTML = docLinkHtml;\n",
              "          element.appendChild(docLink);\n",
              "        }\n",
              "      </script>\n",
              "    </div>\n",
              "  </div>\n"
            ]
          },
          "metadata": {},
          "execution_count": 13
        }
      ]
    },
    {
      "cell_type": "code",
      "source": [
        "(unique, counts) = np.unique(y_train, return_counts=True)\n",
        "np.asarray((unique, counts)).T"
      ],
      "metadata": {
        "colab": {
          "base_uri": "https://localhost:8080/"
        },
        "id": "EjfesbskGc1I",
        "outputId": "9a2e079b-967f-4ecf-f906-1a00656267f1"
      },
      "execution_count": null,
      "outputs": [
        {
          "output_type": "execute_result",
          "data": {
            "text/plain": [
              "array([[   0, 1409],\n",
              "       [   1, 4083]])"
            ]
          },
          "metadata": {},
          "execution_count": 16
        }
      ]
    },
    {
      "cell_type": "code",
      "source": [
        "train_data = np.array(X_train)\n",
        "test_data=np.array(X_test)"
      ],
      "metadata": {
        "id": "KfbnmUNaIWqT"
      },
      "execution_count": null,
      "outputs": []
    },
    {
      "cell_type": "code",
      "source": [
        "time_steps = 1\n",
        "X_train_reshaped = np.reshape(X_train, (X_train.shape[0], time_steps, X_train.shape[1]))\n",
        "\n",
        "\n",
        "inputs = Input(shape=(X_train_reshaped.shape[1], X_train_reshaped.shape[2]))\n",
        "layer_1_ = Bidirectional(LSTM(units=512, return_sequences=True, recurrent_dropout=0.5))(inputs)\n",
        "x = Bidirectional(LSTM(units=512, return_sequences=True, recurrent_dropout=0.5))(layer_1_)\n",
        "x = Bidirectional(LSTM(units=512, return_sequences=True, recurrent_dropout=0.5))(x)\n",
        "layer_2_ = Bidirectional(LSTM(units=512, return_sequences=True, recurrent_dropout=0.5))(x)\n",
        "x = Add()([layer_1_, layer_2_])\n",
        "x = Bidirectional(LSTM(units=64, recurrent_dropout=0.5))(x)\n",
        "x = Dropout(0.5)(x)  # Adding dropout\n",
        "x = Dense(16, activation='relu')(x)\n",
        "x = Dense(1, activation='sigmoid')(x)\n",
        "\n",
        "modified_model = Model(inputs=inputs, outputs=x)\n",
        "\n"
      ],
      "metadata": {
        "id": "FERYKuWrLmc0"
      },
      "execution_count": null,
      "outputs": []
    },
    {
      "cell_type": "code",
      "source": [
        "\n",
        "\n",
        "# Compile the model\n",
        "modified_model.compile(optimizer='adam', loss='binary_crossentropy', metrics=['accuracy'])"
      ],
      "metadata": {
        "id": "LcPtko-tP9Zq"
      },
      "execution_count": null,
      "outputs": []
    },
    {
      "cell_type": "code",
      "source": [
        "modified_model.summary()"
      ],
      "metadata": {
        "colab": {
          "base_uri": "https://localhost:8080/"
        },
        "id": "dQ137UbWWgnf",
        "outputId": "42bbd427-4f0d-4eb2-8352-2a14f6278d43"
      },
      "execution_count": null,
      "outputs": [
        {
          "output_type": "stream",
          "name": "stdout",
          "text": [
            "Model: \"model_8\"\n",
            "__________________________________________________________________________________________________\n",
            " Layer (type)                   Output Shape         Param #     Connected to                     \n",
            "==================================================================================================\n",
            " input_10 (InputLayer)          [(None, 1, 4)]       0           []                               \n",
            "                                                                                                  \n",
            " bidirectional_42 (Bidirectiona  (None, 1, 1024)     2117632     ['input_10[0][0]']               \n",
            " l)                                                                                               \n",
            "                                                                                                  \n",
            " bidirectional_43 (Bidirectiona  (None, 1, 1024)     6295552     ['bidirectional_42[0][0]']       \n",
            " l)                                                                                               \n",
            "                                                                                                  \n",
            " bidirectional_44 (Bidirectiona  (None, 1, 1024)     6295552     ['bidirectional_43[0][0]']       \n",
            " l)                                                                                               \n",
            "                                                                                                  \n",
            " bidirectional_45 (Bidirectiona  (None, 1, 1024)     6295552     ['bidirectional_44[0][0]']       \n",
            " l)                                                                                               \n",
            "                                                                                                  \n",
            " add_8 (Add)                    (None, 1, 1024)      0           ['bidirectional_42[0][0]',       \n",
            "                                                                  'bidirectional_45[0][0]']       \n",
            "                                                                                                  \n",
            " bidirectional_46 (Bidirectiona  (None, 128)         557568      ['add_8[0][0]']                  \n",
            " l)                                                                                               \n",
            "                                                                                                  \n",
            " dropout_2 (Dropout)            (None, 128)          0           ['bidirectional_46[0][0]']       \n",
            "                                                                                                  \n",
            " dense_38 (Dense)               (None, 16)           2064        ['dropout_2[0][0]']              \n",
            "                                                                                                  \n",
            " dense_39 (Dense)               (None, 1)            17          ['dense_38[0][0]']               \n",
            "                                                                                                  \n",
            "==================================================================================================\n",
            "Total params: 21,563,937\n",
            "Trainable params: 21,563,937\n",
            "Non-trainable params: 0\n",
            "__________________________________________________________________________________________________\n"
          ]
        }
      ]
    },
    {
      "cell_type": "code",
      "source": [
        "es = EarlyStopping(monitor='val_accuracy',mode='max', patience=10,restore_best_weights=True)\n",
        "\n",
        "# Now you can fit the model using the reshaped data\n",
        "history = modified_model.fit(X_train_reshaped, y_train, callbacks=[es], epochs=10, batch_size=10, validation_split=0.2, shuffle=True, verbose=1)"
      ],
      "metadata": {
        "colab": {
          "base_uri": "https://localhost:8080/"
        },
        "id": "wPbONNJQW2hw",
        "outputId": "d471465f-8c69-4c85-9a58-a89dbb9e6cef"
      },
      "execution_count": null,
      "outputs": [
        {
          "output_type": "stream",
          "name": "stdout",
          "text": [
            "Epoch 1/10\n",
            "440/440 [==============================] - 208s 408ms/step - loss: 0.5037 - accuracy: 0.7947 - val_loss: 0.5643 - val_accuracy: 0.7452\n",
            "Epoch 2/10\n",
            "440/440 [==============================] - 180s 409ms/step - loss: 0.5136 - accuracy: 0.7826 - val_loss: 0.5264 - val_accuracy: 0.7634\n",
            "Epoch 3/10\n",
            "440/440 [==============================] - 183s 416ms/step - loss: 0.5040 - accuracy: 0.7951 - val_loss: 0.5061 - val_accuracy: 0.7971\n",
            "Epoch 4/10\n",
            "440/440 [==============================] - 177s 402ms/step - loss: 0.5085 - accuracy: 0.7901 - val_loss: 0.5569 - val_accuracy: 0.7434\n",
            "Epoch 5/10\n",
            "440/440 [==============================] - 179s 406ms/step - loss: 0.4936 - accuracy: 0.8040 - val_loss: 0.5364 - val_accuracy: 0.7825\n",
            "Epoch 6/10\n",
            "440/440 [==============================] - 178s 404ms/step - loss: 0.5689 - accuracy: 0.7439 - val_loss: 0.5671 - val_accuracy: 0.7316\n",
            "Epoch 7/10\n",
            "440/440 [==============================] - 178s 404ms/step - loss: 0.5242 - accuracy: 0.7787 - val_loss: 0.4981 - val_accuracy: 0.8035\n",
            "Epoch 8/10\n",
            "440/440 [==============================] - 186s 423ms/step - loss: 0.5014 - accuracy: 0.8017 - val_loss: 0.5290 - val_accuracy: 0.7743\n",
            "Epoch 9/10\n",
            "440/440 [==============================] - 180s 410ms/step - loss: 0.5090 - accuracy: 0.7917 - val_loss: 0.5112 - val_accuracy: 0.7980\n",
            "Epoch 10/10\n",
            "440/440 [==============================] - 181s 410ms/step - loss: 0.5179 - accuracy: 0.7865 - val_loss: 0.4844 - val_accuracy: 0.8098\n"
          ]
        }
      ]
    },
    {
      "cell_type": "code",
      "source": [
        "acc = history.history['accuracy']\n",
        "val_acc = history.history['val_accuracy']\n",
        "epochs = range(1, len(acc) + 1)\n",
        "\n",
        "\n",
        "plt.plot(epochs, acc, 'bo', label='Training accuracy')\n",
        "plt.plot(epochs, val_acc, 'orange', label='Validation accuracy')\n",
        "plt.title('Training and validation accuracy')\n",
        "plt.xlabel('Epochs')\n",
        "plt.ylabel('Accuracy')\n",
        "plt.legend()\n",
        "plt.show()\n",
        "\n",
        "\n",
        "np.max(val_acc)"
      ],
      "metadata": {
        "colab": {
          "base_uri": "https://localhost:8080/",
          "height": 489
        },
        "id": "nNJFD7xHXKwt",
        "outputId": "c28b009b-3f72-4340-a38a-d0d50d2b2829"
      },
      "execution_count": null,
      "outputs": [
        {
          "output_type": "display_data",
          "data": {
            "text/plain": [
              "<Figure size 640x480 with 1 Axes>"
            ],
            "image/png": "[encoded data removed]"
          },
          "metadata": {}
        },
        {
          "output_type": "execute_result",
          "data": {
            "text/plain": [
              "0.8098270893096924"
            ]
          },
          "metadata": {},
          "execution_count": 76
        }
      ]
    },
    {
      "cell_type": "code",
      "source": [],
      "metadata": {
        "id": "7aUl8VRXXgdq"
      },
      "execution_count": null,
      "outputs": []
    }
  ]
}